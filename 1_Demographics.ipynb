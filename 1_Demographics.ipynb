{
  "nbformat": 4,
  "nbformat_minor": 0,
  "metadata": {
    "colab": {
      "name": "1_Demographics.ipynb",
      "version": "0.3.2",
      "provenance": [],
      "collapsed_sections": []
    },
    "language_info": {
      "codemirror_mode": {
        "name": "ipython",
        "version": 3
      },
      "file_extension": ".py",
      "mimetype": "text/x-python",
      "name": "python",
      "nbconvert_exporter": "python",
      "pygments_lexer": "ipython3",
      "version": "3.7.1"
    },
    "kernelspec": {
      "display_name": "Python 3",
      "language": "python",
      "name": "python3"
    }
  },
  "cells": [
    {
      "cell_type": "code",
      "metadata": {
        "colab_type": "code",
        "id": "wNkyzL6yaQni",
        "colab": {}
      },
      "source": [
        "import sys\n",
        "IN_COLAB = 'google.colab' in sys.modules\n",
        "\n",
        "if IN_COLAB:\n",
        "    from google.colab import drive\n",
        "    drive.mount('/content/drive')\n",
        "    %cd '/content/drive/My Drive/AI4All-UM-NLP'"
      ],
      "execution_count": 0,
      "outputs": []
    },
    {
      "cell_type": "code",
      "metadata": {
        "colab_type": "code",
        "id": "0M7O974naKb1",
        "colab": {}
      },
      "source": [
        "%load_ext autoreload\n",
        "%autoreload 2\n",
        "import lib\n",
        "from collections import Counter\n",
        "import numpy as np"
      ],
      "execution_count": 0,
      "outputs": []
    },
    {
      "cell_type": "markdown",
      "metadata": {
        "id": "SN5ogkaiuOrQ",
        "colab_type": "text"
      },
      "source": [
        "## Using Lib\n",
        "In addition to outside libraries, we have provided a library called `lib` with a few functions we have defined. It will be useful to load data, and for some visualizations. If you want to understand the code, you can find it in the google drive directory, under `lib.py`, but you don't need to!"
      ]
    },
    {
      "cell_type": "markdown",
      "metadata": {
        "colab_type": "text",
        "id": "eU1kLJMmaKb4"
      },
      "source": [
        "# Loading the Data and Checking Demographics\n",
        "We have two data files: demographic.csv and cleaned_hm.csv.\n",
        "\n",
        "* demographic.csv contains demogrpahic information about the individuals who are represented in the dataset  \n",
        "  The dataset can be loaded as a list of dictionaries by calling `lib.load_demographics()`. The keys are the columns of the table: `wid`, `age`,\t`country`,\t`gender`,\t`marital`, and\t`parenthood`\n",
        "\n",
        "* cleaned_hm.csv contains 100,000 crowd-sourced happy moments. Worker IDs listed correspond to `wid` in demographic.csv.  \n",
        "  The dataset can be loaded as a list of dictionaries by calling `lib.load_happy_moments()`.The keys are the columns of the table: \t`hmid`,\t`wid`,\t`reflection_period`,\t`original_hm`,\t`cleaned_hm`,\t`modified`,\t`num_sentence`,\t`ground_truth_category`,\t`predicted_category`\n",
        "  \n",
        "You may find `lib.load_joined_data()` to be particularly useful, as it will load all of the data you will need without you needing to combine the two tables together! The format is a list of dictionaries. The keys are the \"core\" keys from the other tables that you will use later on: `cleaned_hm`, `age`, `country`, `wid`, `gender`, `parenthood`, `marital`, and `hmid`.\n",
        "  \n",
        "We will load the data files here using the pandas library so that you can see what each file looks like; however, you aren't expected to learn how to work with pandas, so we provide functions to load the data as a dictionary"
      ]
    },
    {
      "cell_type": "code",
      "metadata": {
        "colab_type": "code",
        "id": "yqgRbdBBaKb5",
        "colab": {}
      },
      "source": [
        "lib.view_demographics()"
      ],
      "execution_count": 0,
      "outputs": []
    },
    {
      "cell_type": "code",
      "metadata": {
        "colab_type": "code",
        "id": "25kkTQtXaKb7",
        "colab": {}
      },
      "source": [
        "lib.view_happy_moments()"
      ],
      "execution_count": 0,
      "outputs": []
    },
    {
      "cell_type": "markdown",
      "metadata": {
        "colab_type": "text",
        "id": "cJ2lD1iqaKb9"
      },
      "source": [
        "Right now, we will only be working with the demographics file. Load it with the function that is mentioned above."
      ]
    },
    {
      "cell_type": "code",
      "metadata": {
        "colab_type": "code",
        "id": "NgzwJU47aKb9",
        "colab": {}
      },
      "source": [
        "demographics = lib.load_demographics()"
      ],
      "execution_count": 0,
      "outputs": []
    },
    {
      "cell_type": "markdown",
      "metadata": {
        "colab_type": "text",
        "id": "_xFArYjvaKb_"
      },
      "source": [
        "## Aggregating Demographic Information\n",
        "This data was crowdsourced, and demographic information was collected about worker's ages, countries, genders, marital status, and parenthood. To better understand the dataset, fill in the function called `get_distribution` to calculate the distribution of workers in each category for a certain property."
      ]
    },
    {
      "cell_type": "code",
      "metadata": {
        "colab_type": "code",
        "id": "tyO3HDsSaKcA",
        "colab": {}
      },
      "source": [
        "def get_distribution(demographics, worker_property):\n",
        "    counts = Counter([worker[worker_property] for worker in demographics])\n",
        "    total = sum(counts.values())\n",
        "    distribution = {category: (100 * count / total) for category, count in counts.items()}\n",
        "    # return a dictionary that maps a property to a percent\n",
        "    return distribution"
      ],
      "execution_count": 0,
      "outputs": []
    },
    {
      "cell_type": "markdown",
      "metadata": {
        "colab_type": "text",
        "id": "EKqzznI_aKcB"
      },
      "source": [
        "After writing your function, run the cell below to save each distribution"
      ]
    },
    {
      "cell_type": "code",
      "metadata": {
        "colab_type": "code",
        "id": "7UYaqYv5aKcC",
        "colab": {}
      },
      "source": [
        "age_distribution = get_distribution(demographics, 'age')\n",
        "country_distribution = get_distribution(demographics, 'country')\n",
        "gender_distribution = get_distribution(demographics, 'gender')\n",
        "marital_distribution = get_distribution(demographics, 'marital')\n",
        "parenthood_distribution = get_distribution(demographics, 'parenthood')"
      ],
      "execution_count": 0,
      "outputs": []
    },
    {
      "cell_type": "markdown",
      "metadata": {
        "colab_type": "text",
        "id": "yNlCKfhWaKcE"
      },
      "source": [
        "Now, print out the distributions for marital status, country, and age. You can pass your dictionary to the function `lib.print_as_table` to print a table containing the distribution for better readability. The function takes two arguments: the dictionary and the title for the table. For example, to call it for age, you could write:\n",
        "\n",
        "`lib.print_as_table(age_distribution, 'Age Distribution')`"
      ]
    },
    {
      "cell_type": "code",
      "metadata": {
        "colab_type": "code",
        "id": "OIlB22jtaKcF",
        "colab": {}
      },
      "source": [
        "lib.print_as_table(age_distribution, 'Age Distribution')\n",
        "lib.print_as_table(country_distribution, 'Country Distribution')\n",
        "lib.print_as_table(marital_distribution, 'Marital Distribution')"
      ],
      "execution_count": 0,
      "outputs": []
    },
    {
      "cell_type": "markdown",
      "metadata": {
        "colab_type": "text",
        "id": "zFElWZnCaKcH"
      },
      "source": [
        "If you wrote a fairly simple function to create your dictionary, you may notice some issues with these tables that make them less informative than we would like:\n",
        "1. There are a lot of ages! Furthermore, some are represented as floats and some are ints, but 25 and 25.0 should mean the same thing!\n",
        "1. There are also a lot of countries, but only two of them (USA and India) are very prevalent.\n",
        "1. There are some _weird_ unwanted values like nan (not a number, which means that this was not filled in in the table) and \"prefer not to say\" for age.\n",
        "\n",
        "To solve these problems, we will write three more functions:\n",
        "1. `get_age_distribution`  \n",
        "   This function will get the distribution of ages using a range instead of using single ages. You can use the buckets 10–20, 20–30, ..., 80-90. If you come across a value that does not fit in one of the ranges, skip it!\n",
        "2. `get_country_distribution`  \n",
        "   This function will get the distribution of countries, but will group together all countries with less than .4% of the overall workers into one group that you should call \"OTHER\". You should exclude nan values.\n",
        "3. `get_distribution_new`  \n",
        "   This function should be the same as your original `get_distribution` function, but should ignore nan values!"
      ]
    },
    {
      "cell_type": "code",
      "metadata": {
        "colab_type": "code",
        "id": "DPtMxt8YaKcI",
        "colab": {}
      },
      "source": [
        "def get_age_distribution(demographics):\n",
        "    buckets = ['10-20', '20-30', '30-40', '40-50', '50-60', '60-70', '70-80', '80-90']\n",
        "    counts = Counter()\n",
        "    for worker in demographics:\n",
        "        age = worker['age']\n",
        "        try:\n",
        "            age = int(float(age))\n",
        "        except:\n",
        "            # in this case the input is bad\n",
        "            continue\n",
        "        bucket_id = int((age - (age % 10)) / 10 - 1)\n",
        "        if bucket_id < len(buckets):\n",
        "            bucket = buckets[bucket_id]\n",
        "            counts[buckets[bucket_id]] += 1\n",
        "    total = sum(counts.values())\n",
        "    distribution = {category: (100 * count / total) for category, count in counts.items()}\n",
        "    return distribution\n",
        "\n",
        "\n",
        "def get_country_distribution(demographics):\n",
        "    distribution = get_distribution(demographics, 'country')\n",
        "    modified_distribution = {}\n",
        "    other = 0\n",
        "    for k, v in distribution.items():\n",
        "        if v < 0.4:\n",
        "            other += v\n",
        "        else:\n",
        "            modified_distribution[k] = v\n",
        "    modified_distribution['OTHER'] = other\n",
        "    return modified_distribution\n",
        "\n",
        "def get_distribution_new(demographics, worker_property):\n",
        "    demographics = [worker for worker in demographics if type(worker[worker_property]) == str or not np.isnan(worker[worker_property])]\n",
        "    # if this is called with one of the properties that we have a special function for, call that function instead!\n",
        "    if worker_property == 'age':\n",
        "        return get_age_distribution(demographics)\n",
        "    elif worker_property == 'country':\n",
        "        return get_country_distribution(demographics)\n",
        "    return get_distribution(demographics, worker_property)"
      ],
      "execution_count": 0,
      "outputs": []
    },
    {
      "cell_type": "code",
      "metadata": {
        "colab_type": "code",
        "id": "fM5tOT3LaKcL",
        "colab": {}
      },
      "source": [
        "age_distribution = get_distribution_new(demographics, 'age')\n",
        "country_distribution = get_distribution_new(demographics, 'country')\n",
        "gender_distribution = get_distribution_new(demographics, 'gender')\n",
        "marital_distribution = get_distribution_new(demographics, 'marital')\n",
        "parenthood_distribution = get_distribution_new(demographics, 'parenthood')"
      ],
      "execution_count": 0,
      "outputs": []
    },
    {
      "cell_type": "code",
      "metadata": {
        "colab_type": "code",
        "id": "0ALr70U4aKcN",
        "colab": {}
      },
      "source": [
        "lib.print_as_table(age_distribution, 'Age Distribution')\n",
        "lib.print_as_table(country_distribution, 'Country Distribution')\n",
        "lib.print_as_table(marital_distribution, 'Marital Distribution')\n",
        "lib.print_as_table(gender_distribution, 'Gender Distribution')\n",
        "lib.print_as_table(parenthood_distribution, 'Parenthood Distribution')"
      ],
      "execution_count": 0,
      "outputs": []
    },
    {
      "cell_type": "markdown",
      "metadata": {
        "colab_type": "text",
        "id": "8GTgCGjoaKcO"
      },
      "source": [
        "## Distribution Visualizations\n",
        "\n",
        "Finally, using the library functions `lib.create_histogram` and `lib.create_pie`, create histograms and pie charts for our properties. Create a histogram for age; for the other properties, create pie charts. The functions take two parameters: the distributions and a title.  For example, to call it for age, you could write:\n",
        "\n",
        "`lib.create_pie(age_distribution, 'Age Distribution')`\n"
      ]
    },
    {
      "cell_type": "code",
      "metadata": {
        "colab_type": "code",
        "id": "IREkG5tnaKcP",
        "colab": {}
      },
      "source": [
        "lib.create_pie(age_distribution, 'Age Distribution')\n",
        "lib.create_pie(country_distribution, 'Country Distribution')\n",
        "lib.create_pie(marital_distribution, 'Marital Distribution')\n",
        "lib.create_pie(gender_distribution, 'Gender Distribution')\n",
        "lib.create_pie(parenthood_distribution, 'Parenthood Distribution')"
      ],
      "execution_count": 0,
      "outputs": []
    },
    {
      "cell_type": "code",
      "metadata": {
        "colab_type": "code",
        "id": "7KVbkO23ard1",
        "colab": {}
      },
      "source": [
        ""
      ],
      "execution_count": 0,
      "outputs": []
    }
  ]
}