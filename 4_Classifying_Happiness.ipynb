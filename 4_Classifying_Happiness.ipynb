{
  "nbformat": 4,
  "nbformat_minor": 0,
  "metadata": {
    "colab": {
      "name": "4_Classifying_Happiness.ipynb",
      "version": "0.3.2",
      "provenance": [],
      "collapsed_sections": [],
      "toc_visible": true,
      "include_colab_link": true
    },
    "language_info": {
      "codemirror_mode": {
        "name": "ipython",
        "version": 3
      },
      "file_extension": ".py",
      "mimetype": "text/x-python",
      "name": "python",
      "nbconvert_exporter": "python",
      "pygments_lexer": "ipython3",
      "version": "3.7.1"
    },
    "kernelspec": {
      "display_name": "Python 3",
      "language": "python",
      "name": "python3"
    }
  },
  "cells": [
    {
      "cell_type": "markdown",
      "metadata": {
        "id": "view-in-github",
        "colab_type": "text"
      },
      "source": [
        "<a href=\"https://colab.research.google.com/github/lbiester/AI4All-UM-NLP/blob/master/4_Classifying_Happiness.ipynb\" target=\"_parent\"><img src=\"https://colab.research.google.com/assets/colab-badge.svg\" alt=\"Open In Colab\"/></a>"
      ]
    },
    {
      "cell_type": "code",
      "metadata": {
        "colab_type": "code",
        "id": "CYUhgh1IcCUG",
        "outputId": "612ae255-c354-441d-8588-40421231cfe0",
        "colab": {
          "base_uri": "https://localhost:8080/",
          "height": 85
        }
      },
      "source": [
        "import sys\n",
        "IN_COLAB = 'google.colab' in sys.modules\n",
        "\n",
        "if IN_COLAB:\n",
        "    from google.colab import drive\n",
        "    drive.mount('/content/drive')\n",
        "    %cd '/content/drive/My Drive/AI4All-UM-NLP'\n",
        "\n",
        "    import nltk\n",
        "    nltk.download('punkt')"
      ],
      "execution_count": 0,
      "outputs": [
        {
          "output_type": "stream",
          "text": [
            "Drive already mounted at /content/drive; to attempt to forcibly remount, call drive.mount(\"/content/drive\", force_remount=True).\n",
            "/content/drive/My Drive/AI4All-UM-NLP\n",
            "[nltk_data] Downloading package punkt to /root/nltk_data...\n",
            "[nltk_data]   Package punkt is already up-to-date!\n"
          ],
          "name": "stdout"
        }
      ]
    },
    {
      "cell_type": "code",
      "metadata": {
        "colab_type": "code",
        "id": "8CRc94VqcASA",
        "outputId": "38540245-147f-4615-887d-8ca841428498",
        "colab": {
          "base_uri": "https://localhost:8080/",
          "height": 51
        }
      },
      "source": [
        "%load_ext autoreload\n",
        "%autoreload 2\n",
        "import lib\n",
        "from sklearn.model_selection import train_test_split\n",
        "import pandas as pd\n",
        "import itertools\n",
        "import nltk\n",
        "import numpy as np\n",
        "from numpy.random import rand\n",
        "\n",
        "\n",
        "from sklearn.linear_model import LogisticRegression\n",
        "from sklearn import metrics\n",
        "from scipy.sparse import lil_matrix, hstack"
      ],
      "execution_count": 0,
      "outputs": [
        {
          "output_type": "stream",
          "text": [
            "The autoreload extension is already loaded. To reload it, use:\n",
            "  %reload_ext autoreload\n"
          ],
          "name": "stdout"
        }
      ]
    },
    {
      "cell_type": "markdown",
      "metadata": {
        "colab_type": "text",
        "id": "pTubzneCcASD"
      },
      "source": [
        "# Classification\n",
        "\n",
        "Our final task will be to use the tools that we have explored to classify gender based on happiness. Along the way, we will see how to split data to train and test classifiers and how data is represented as input in NLP."
      ]
    },
    {
      "cell_type": "markdown",
      "metadata": {
        "colab_type": "text",
        "id": "J6Fr6VThcASE"
      },
      "source": [
        "## Splitting Data\n",
        "\n",
        "Before we train any classifiers, we need to split our data into a train set, dev set, and test set.\n",
        "\n",
        "Create three lists of writer IDs: train (80%), test (10%), and dev (10%). Make sure that these lists do not have any overlap, and contain all writers with their gender labeled as male or female. As you saw in section 1, we do not have very many authors whose gender is other, so it would be impossible to perform classification.\n",
        "\n",
        "Scikit-learn has a funciton, `train_test_split`, that will split data for you. Note that it only does a single split; think about how you can use it to create three distinct datasets. If you do not want to use scikit-learn, you may implement this yourself. However, for debugging, you should seed your random number generator, which will cause it to have the same results each time you use it. You can see the [documentation here](https://scikit-learn.org/stable/modules/generated/sklearn.model_selection.train_test_split.html)."
      ]
    },
    {
      "cell_type": "markdown",
      "metadata": {
        "colab_type": "text",
        "id": "wU-XTf1icASE"
      },
      "source": [
        "Load your data (use the function for _joined_ data!)"
      ]
    },
    {
      "cell_type": "code",
      "metadata": {
        "colab_type": "code",
        "id": "Bhs9fOJ0cASF",
        "colab": {}
      },
      "source": [
        "joined_data = lib.load_joined_data()"
      ],
      "execution_count": 0,
      "outputs": []
    },
    {
      "cell_type": "markdown",
      "metadata": {
        "colab_type": "text",
        "id": "I6SRYm4acASH"
      },
      "source": [
        "Create a new list, `joined_data_clean`, that only contains happy moments where the author identifies as male or female."
      ]
    },
    {
      "cell_type": "code",
      "metadata": {
        "colab_type": "code",
        "id": "LLuw9RIQcASH",
        "colab": {}
      },
      "source": [
        "joined_data_clean = [hm for hm in joined_data if hm['gender'] in ['m', 'f']]"
      ],
      "execution_count": 0,
      "outputs": []
    },
    {
      "cell_type": "markdown",
      "metadata": {
        "colab_type": "text",
        "id": "Vf0lUGTScASJ"
      },
      "source": [
        "Split your data into three separate lists: `train`, `dev`, and `test`."
      ]
    },
    {
      "cell_type": "code",
      "metadata": {
        "colab_type": "code",
        "id": "lgsE6JlqcASK",
        "outputId": "bac12ed8-a102-453b-e00d-4d9fa1fdebc8",
        "colab": {
          "base_uri": "https://localhost:8080/",
          "height": 54
        }
      },
      "source": [
        "train, temp = train_test_split(joined_data_clean, test_size=.2, random_state=10)\n",
        "dev, test = train_test_split(temp, test_size=.5, random_state=10)"
      ],
      "execution_count": 0,
      "outputs": [
        {
          "output_type": "stream",
          "text": [
            "{'hm_text': \"Last night, I worked out with a weight set and a new workout I hadn't tried before.\", 'age': '21.0', 'country': 'USA', 'wid': 367, 'gender': 'm', 'parenthood': 'n', 'marital': 'single', 'hmid': 91351}\n"
          ],
          "name": "stdout"
        }
      ]
    },
    {
      "cell_type": "markdown",
      "metadata": {
        "colab_type": "text",
        "id": "e3rhp4nycASL"
      },
      "source": [
        "## Defining a Baseline\n",
        "One good baseline is the _majority class_. In a classification problem, it is often the case that one class appears more frequently in the data than the other.\n",
        "\n",
        "The simplest baseline is random, which would be 50% on a binary classification task like ours. However, with unbalanced data, that does not take into account the fact that guessing the most common class 100% of the time would yield a higher baseline. What is our majority class baseline? Print it out, and be sure to compare your results to the baseline!"
      ]
    },
    {
      "cell_type": "code",
      "metadata": {
        "colab_type": "code",
        "id": "kvPp7OQtcASM",
        "outputId": "75797d4d-27b0-4f99-d758-f74b97cc4473",
        "colab": {
          "base_uri": "https://localhost:8080/",
          "height": 34
        }
      },
      "source": [
        "### YOUR WORK HERE\n",
        "from collections import Counter\n",
        "class_counts = Counter([hm['gender'] for hm in joined_data_clean])\n",
        "print(class_counts.most_common()[0][1] / sum(class_counts.values()))\n",
        "### END YOUR WORK"
      ],
      "execution_count": 0,
      "outputs": [
        {
          "output_type": "stream",
          "text": [
            "0.5782936877875681\n"
          ],
          "name": "stdout"
        }
      ]
    },
    {
      "cell_type": "markdown",
      "metadata": {
        "colab_type": "text",
        "id": "mDtE-ZeOcASN"
      },
      "source": [
        "## First Feature: Counts\n",
        "We will first train our model by using counts of words as features. You should create a feature matrix (using numpy) with the following properties:\n",
        "* There is one row for each sentence\n",
        "* Each column is a count of the number of times that each word appears in that sentence\n",
        "\n",
        "You can think of this as a grid, where on the top you have words and on the side you have sentences.\n",
        "\n",
        "You should\n",
        "* Fill in the class `CountMatrix`. The two methods you will write, `fit_transform` and `transform` are analogous to\n",
        "terminology used in sklearn. `fit_transform` will create a new matrix based on the words in your sentence, while `transform` will create a matrix with the column -> word mapping that was used when you called `fit_transform`! Make sure that `transform` can only be called if `fit_transform` has already been called!\n",
        "* Think about what to do with unknown words. You can search online to see if you can find any solutions to this problem!\n",
        "\n",
        "You will need to use a sparse matrix from scipy to accomplish this without creating a data structure that is too big for colab. I would recommend using scipy's [lil_matrix](https://docs.scipy.org/doc/scipy/reference/generated/scipy.sparse.lil_matrix.html). Compared to some of the other sparse matrices, it is easy to construct in a similar way to how you would construct a matrix in numpy. There is a warning that \"to construct a matrix efficiently, make sure the items are pre-sorted by index, per row\" but in our case this does not seem to matter very much in terms of time, so do not worry about sorting if you don't want to."
      ]
    },
    {
      "cell_type": "markdown",
      "metadata": {
        "id": "XQTyeQQ6gedz",
        "colab_type": "text"
      },
      "source": [
        "*List of Lists Format (LIL)*\n",
        "\n",
        "Examples:\n",
        "\n",
        "\n",
        "\n",
        "\n"
      ]
    },
    {
      "cell_type": "code",
      "metadata": {
        "id": "t8ulfCD7iz7h",
        "colab_type": "code",
        "outputId": "776443a1-3e1b-4de4-f8b7-c417d28c6b2d",
        "colab": {
          "base_uri": "https://localhost:8080/",
          "height": 34
        }
      },
      "source": [
        "#create an empty LIL matrix of 4 rows and 5 columns\n",
        "mtx = lil_matrix((4,5))\n",
        "print(mtx)"
      ],
      "execution_count": 0,
      "outputs": [
        {
          "output_type": "stream",
          "text": [
            "\n"
          ],
          "name": "stdout"
        }
      ]
    },
    {
      "cell_type": "code",
      "metadata": {
        "id": "Lzg_xTOWibTU",
        "colab_type": "code",
        "outputId": "0d167c7b-f9f7-46e3-efcc-da3ff0af471c",
        "colab": {
          "base_uri": "https://localhost:8080/",
          "height": 51
        }
      },
      "source": [
        "#create a random array data \n",
        "data = np.round(rand(2,3))\n",
        "print(data)\n"
      ],
      "execution_count": 0,
      "outputs": [
        {
          "output_type": "stream",
          "text": [
            "[[0. 0. 1.]\n",
            " [0. 0. 1.]]\n"
          ],
          "name": "stdout"
        }
      ]
    },
    {
      "cell_type": "code",
      "metadata": {
        "id": "hPVCB2hDsYBL",
        "colab_type": "code",
        "outputId": "2b55e278-03db-41bf-a2c8-3290084fd970",
        "colab": {
          "base_uri": "https://localhost:8080/",
          "height": 153
        }
      },
      "source": [
        "#initialize the LIL matrix with the random array and then print it. Do you notice something interesting? How does the lil_matrix differ from the original matrix?\n",
        "mtx[:2,[1,2,3]] = data\n",
        "print(\"Lil matrix:\")\n",
        "print(mtx)\n",
        "print(\"Original matrix:\")\n",
        "print(mtx.todense())\n"
      ],
      "execution_count": 0,
      "outputs": [
        {
          "output_type": "stream",
          "text": [
            "Lil matrix:\n",
            "  (0, 3)\t1.0\n",
            "  (1, 3)\t1.0\n",
            "Original matrix:\n",
            "[[0. 0. 0. 1. 0.]\n",
            " [0. 0. 0. 1. 0.]\n",
            " [0. 0. 0. 0. 0.]\n",
            " [0. 0. 0. 0. 0.]]\n"
          ],
          "name": "stdout"
        }
      ]
    },
    {
      "cell_type": "markdown",
      "metadata": {
        "id": "8aevpUeLi8xj",
        "colab_type": "text"
      },
      "source": [
        "# New Section"
      ]
    },
    {
      "cell_type": "code",
      "metadata": {
        "colab_type": "code",
        "id": "LUZeM06OcASO",
        "colab": {}
      },
      "source": [
        "class CountMatrix:\n",
        "    def __init__(self):\n",
        "        ### YOUR WORK HERE\n",
        "        self.word_to_int = {}\n",
        "        ### END YOUR WORK\n",
        "    \n",
        "    def fit_transform(self, sentences):\n",
        "        ### YOUR WORK HERE\n",
        "        col = 0\n",
        "        for sentence in sentences:\n",
        "            for token in nltk.word_tokenize(sentence):\n",
        "                if token not in self.word_to_int:\n",
        "                    self.word_to_int[token] = col\n",
        "                    col += 1\n",
        "        return self.transform(sentences)\n",
        "\n",
        "        ### END YOUR WORK\n",
        "    \n",
        "    def transform(self, sentences):\n",
        "        ### YOUR WORK HERE\n",
        "        count_matrix = lil_matrix((len(sentences), len(self.word_to_int)), dtype=np.int64)\n",
        "        for i, sentence in enumerate(sentences):\n",
        "            for token in sorted(nltk.word_tokenize(sentence)):\n",
        "                if token in self.word_to_int:\n",
        "                    count_matrix[i, self.word_to_int[token]] += 1\n",
        "        return count_matrix\n",
        "        ### END YOUR WORK"
      ],
      "execution_count": 0,
      "outputs": []
    },
    {
      "cell_type": "markdown",
      "metadata": {
        "colab_type": "text",
        "id": "4ktUxfz_cASQ"
      },
      "source": [
        "Use your CountMatrix to create input and output variables for your classifier"
      ]
    },
    {
      "cell_type": "code",
      "metadata": {
        "colab_type": "code",
        "id": "rbvvhSwgcASQ",
        "colab": {}
      },
      "source": [
        "count_matrix = CountMatrix()\n",
        "train_input = count_matrix.fit_transform([hm['hm_text'] for hm in train])\n",
        "dev_input = count_matrix.transform([hm['hm_text'] for hm in dev])\n",
        "\n",
        "train_output = [hm['gender'] for hm in train]\n",
        "dev_output = [hm['gender'] for hm in dev]\n",
        "\n"
      ],
      "execution_count": 0,
      "outputs": []
    },
    {
      "cell_type": "markdown",
      "metadata": {
        "colab_type": "text",
        "id": "iROlrLYPcAST"
      },
      "source": [
        "Now that you have created your features, you can train your classifier. For this exercise, use the LogisticRegression classifier."
      ]
    },
    {
      "cell_type": "code",
      "metadata": {
        "colab_type": "code",
        "id": "XX7VbzP5cAST",
        "outputId": "e1e338d2-1284-49ad-b557-f72b49d68c15",
        "colab": {
          "base_uri": "https://localhost:8080/",
          "height": 68
        }
      },
      "source": [
        "# train the model\n",
        "model = LogisticRegression()\n",
        "model.fit(train_input, train_output)\n",
        "\n",
        "# test the model on dev set\n",
        "predictions = model.predict(dev_input)\n",
        "print(metrics.accuracy_score(predictions, dev_output))"
      ],
      "execution_count": 0,
      "outputs": [
        {
          "output_type": "stream",
          "text": [
            "/usr/local/lib/python3.6/dist-packages/sklearn/linear_model/logistic.py:432: FutureWarning: Default solver will be changed to 'lbfgs' in 0.22. Specify a solver to silence this warning.\n",
            "  FutureWarning)\n"
          ],
          "name": "stderr"
        },
        {
          "output_type": "stream",
          "text": [
            "0.6748195669607057\n"
          ],
          "name": "stdout"
        }
      ]
    },
    {
      "cell_type": "markdown",
      "metadata": {
        "colab_type": "text",
        "id": "n_Ax_odNcASV"
      },
      "source": [
        "## Adding a new feature: length\n",
        "We saw in section 2 that length of happiness reflections can differ for men and women. What happens if we add this feature in addition to counts? Does it help with our performance?"
      ]
    },
    {
      "cell_type": "markdown",
      "metadata": {
        "colab_type": "text",
        "id": "XJ9bzNLmcASW"
      },
      "source": [
        "Create feature vectors that include only the length of the sequence"
      ]
    },
    {
      "cell_type": "code",
      "metadata": {
        "colab_type": "code",
        "id": "N3OgjvmBcASX",
        "colab": {}
      },
      "source": [
        "length_feature_train = lil_matrix([len(nltk.word_tokenize(hm['hm_text'])) for hm in train]).reshape(-1, 1)\n",
        "length_feature_dev = lil_matrix([len(nltk.word_tokenize(hm['hm_text'])) for hm in dev]).reshape(-1, 1)"
      ],
      "execution_count": 0,
      "outputs": []
    },
    {
      "cell_type": "markdown",
      "metadata": {
        "colab_type": "text",
        "id": "8VZ2SDFQcASY"
      },
      "source": [
        "Next, use [`hstack` from scipy.sparse](https://docs.scipy.org/doc/scipy/reference/generated/scipy.sparse.hstack.html) to combine them with your count features\n",
        "\n",
        "Note: you'll need to make the length features a sparse matrix as well!"
      ]
    },
    {
      "cell_type": "code",
      "metadata": {
        "colab_type": "code",
        "id": "2tO08skqcASZ",
        "colab": {}
      },
      "source": [
        "combo_train = hstack((train_input, length_feature_train))\n",
        "combo_dev = hstack((dev_input, length_feature_dev))"
      ],
      "execution_count": 0,
      "outputs": []
    },
    {
      "cell_type": "markdown",
      "metadata": {
        "colab_type": "text",
        "id": "7dKRdBYscASb"
      },
      "source": [
        "Finally, train the model again with the new features to see if the results change"
      ]
    },
    {
      "cell_type": "code",
      "metadata": {
        "colab_type": "code",
        "id": "Uee7WTIFcASb",
        "outputId": "5bdc421c-2691-4301-c78c-5c6aa8ecba08",
        "colab": {
          "base_uri": "https://localhost:8080/",
          "height": 68
        }
      },
      "source": [
        "model = LogisticRegression()\n",
        "model.fit(combo_train, train_output)\n",
        "predictions = model.predict(combo_dev)\n",
        "print(metrics.accuracy_score(predictions, dev_output))"
      ],
      "execution_count": 0,
      "outputs": [
        {
          "output_type": "stream",
          "text": [
            "/usr/local/lib/python3.6/dist-packages/sklearn/linear_model/logistic.py:432: FutureWarning: Default solver will be changed to 'lbfgs' in 0.22. Specify a solver to silence this warning.\n",
            "  FutureWarning)\n"
          ],
          "name": "stderr"
        },
        {
          "output_type": "stream",
          "text": [
            "0.6748195669607057\n"
          ],
          "name": "stdout"
        }
      ]
    },
    {
      "cell_type": "markdown",
      "metadata": {
        "colab_type": "text",
        "id": "Ek3P4R92cASd"
      },
      "source": [
        "## TF-IDF Counts\n",
        "TF-IDF stands for term frequency-inverse document frequency. It is a way of weighting words such that words have the highest weights if they are _common_ in a single document but _uncommon_ in the full set of documents. This means that words like \"a\" would have a lower weight, even if they appear frequently in a single document, because they are so common overall. You can think of a document as a happy moment sentence in our case!\n",
        "\n",
        "[Wikipedia gives a very complete description of how TF-IDF is calculated](https://en.wikipedia.org/wiki/Tf%E2%80%93idf#Definition), and you should refer to this when implementing the method. If you have questions about notation, please ask an instructor or a neighbor, as it is a bit tricky!\n",
        "\n",
        "Fill in the class `TFIDFMatrix`, which will contain TF-IDF values instead of raw counts. Please feel free to add additional helper methods to this class as you calculate TF-IDF!"
      ]
    },
    {
      "cell_type": "code",
      "metadata": {
        "colab_type": "code",
        "id": "FUPyhtPrcASd",
        "colab": {}
      },
      "source": [
        "class TFIDFMatrix:\n",
        "    def __init__(self):\n",
        "        self.word_to_int = {}\n",
        "    \n",
        "    def fit_transform(self, sentences):\n",
        "        ### YOUR WORK HERE\n",
        "        # create a word to column mapping\n",
        "        col = 0\n",
        "        for sentence in sentences:\n",
        "            for token in nltk.word_tokenize(sentence):\n",
        "                if token not in self.word_to_int:\n",
        "                    self.word_to_int[token] = col\n",
        "                    col += 1\n",
        "        return self.transform(sentences)\n",
        "        ### END YOUR WORK\n",
        "    \n",
        "    def transform(self, sentences):\n",
        "        ### YOUR WORK HERE\n",
        "        if len(self.word_to_int) == 0:\n",
        "            raise Exception('Must call fit_transform before transform!')\n",
        "        \n",
        "        # calculate document frequency\n",
        "        document_frequency = {}\n",
        "        for sentence in sentences:\n",
        "            for token in set(nltk.word_tokenize(sentence)):\n",
        "                if token not in document_frequency:\n",
        "                    document_frequency[token] = 0\n",
        "                document_frequency[token] += 1\n",
        "        \n",
        "        # calculate tf-idf\n",
        "        tfidf_matrix = lil_matrix((len(sentences), len(self.word_to_int)))\n",
        "        n_documents = len(sentences)\n",
        "        for i, sentence in enumerate(sentences):\n",
        "            token_counts = {}\n",
        "            for token in nltk.word_tokenize(sentence):\n",
        "                if token in self.word_to_int:\n",
        "                    if token not in token_counts:\n",
        "                        token_counts[token] = 0\n",
        "                    token_counts[token] += 1\n",
        "                        \n",
        "            for token in set(token_counts):\n",
        "                tf = token_counts[token] / sum(token_counts.values())\n",
        "                idf = np.log(n_documents / (1 + document_frequency[token]))\n",
        "                tfidf_value = tf * idf\n",
        "                tfidf_matrix[i, self.word_to_int[token]] = tfidf_value\n",
        "        \n",
        "        return tfidf_matrix\n",
        "    \n",
        "    def get_feature_names(self):\n",
        "        return [x[0] for x in sorted(self.word_to_int.items(), key=lambda x: x[1])]\n",
        "            \n",
        "        ### END YOUR WORK"
      ],
      "execution_count": 0,
      "outputs": []
    },
    {
      "cell_type": "markdown",
      "metadata": {
        "colab_type": "text",
        "id": "RmMaK2OCcASf"
      },
      "source": [
        "Use your TFIDFMatrix to create input and output variables for your classifier"
      ]
    },
    {
      "cell_type": "code",
      "metadata": {
        "colab_type": "code",
        "id": "eleeEgifcASf",
        "outputId": "cc66adb7-d0ab-4f30-dc92-1544f440b34c",
        "colab": {
          "base_uri": "https://localhost:8080/",
          "height": 85
        }
      },
      "source": [
        "tfidf_matrix = TFIDFMatrix()\n",
        "# train_input = tfidf_matrix.fit_transform([hm['hm_text'] for hm in train])\n",
        "\n",
        "# dev_input = tfidf_matrix.transform([hm['hm_text'] for hm in dev])\n",
        "\n",
        "\n",
        "sent1 = 'I like music'\n",
        "sent2 = 'I like food also'\n",
        "\n",
        "fit = tfidf_matrix.fit_transform([sent1, sent2])\n",
        "print(fit)"
      ],
      "execution_count": 0,
      "outputs": [
        {
          "output_type": "stream",
          "text": [
            "  (0, 0)\t-0.1351550360360548\n",
            "  (0, 1)\t-0.1351550360360548\n",
            "  (1, 0)\t-0.10136627702704111\n",
            "  (1, 1)\t-0.10136627702704111\n"
          ],
          "name": "stdout"
        }
      ]
    },
    {
      "cell_type": "markdown",
      "metadata": {
        "colab_type": "text",
        "id": "b1v0p8-_cASh"
      },
      "source": [
        "Finally, train your classifier"
      ]
    },
    {
      "cell_type": "code",
      "metadata": {
        "colab_type": "code",
        "id": "dvC_qHr1cASh",
        "outputId": "a064109b-c12b-4bb1-eada-668a89cb87ee",
        "colab": {
          "base_uri": "https://localhost:8080/",
          "height": 68
        }
      },
      "source": [
        "model = LogisticRegression()\n",
        "model.fit(train_input, train_output)\n",
        "predictions = model.predict(dev_input)\n",
        "print(metrics.accuracy_score(predictions, dev_output))"
      ],
      "execution_count": 0,
      "outputs": [
        {
          "output_type": "stream",
          "text": [
            "/usr/local/lib/python3.6/dist-packages/sklearn/linear_model/logistic.py:432: FutureWarning: Default solver will be changed to 'lbfgs' in 0.22. Specify a solver to silence this warning.\n",
            "  FutureWarning)\n"
          ],
          "name": "stderr"
        },
        {
          "output_type": "stream",
          "text": [
            "0.6763231756214916\n"
          ],
          "name": "stdout"
        }
      ]
    },
    {
      "cell_type": "markdown",
      "metadata": {
        "colab_type": "text",
        "id": "RREududScASj"
      },
      "source": [
        "## Examining Model Weights\n",
        "In addition to succeeding at classification, we can look at the _weights_ of our classifier. This will tell us which words are most influential in making correct classifications!\n",
        "\n",
        "This helps us to determine what makes men happy and not women, and vice-versa.\n",
        "\n",
        "The model weights are stored as `model.coef_`. They will line up with the feature names in your vectorizer, which you can find by running `vectorizer.get_feature_names()`.\n",
        "\n",
        "Once you have the weights for all features, you can sort by coefficient to find the largest and smallest coefficients, which will link to men and women.\n",
        "\n",
        "Do you see any similarities between the coefficient lists and your word clouds?"
      ]
    },
    {
      "cell_type": "code",
      "metadata": {
        "colab_type": "code",
        "id": "ZNnntRWocASk",
        "colab": {}
      },
      "source": [
        "feature_names = tfidf_matrix.get_feature_names()\n",
        "coefficients = model.coef_.tolist()[0]\n",
        "\n",
        "combo = []\n",
        "for i in range(len(feature_names)):\n",
        "    combo.append((feature_names[i], coefficients[i]))\n",
        "    \n",
        "sorted_combos = sorted(combo, key=lambda x: x[1])"
      ],
      "execution_count": 0,
      "outputs": []
    },
    {
      "cell_type": "code",
      "metadata": {
        "colab_type": "code",
        "id": "Kc8VJ05QcASm",
        "outputId": "273132ad-27dc-4ab2-8408-69460b377e73",
        "colab": {
          "base_uri": "https://localhost:8080/",
          "height": 187
        }
      },
      "source": [
        "sorted_combos[:10]"
      ],
      "execution_count": 0,
      "outputs": [
        {
          "output_type": "execute_result",
          "data": {
            "text/plain": [
              "[('husband', -12.25202414363108),\n",
              " ('boyfriend', -7.584283045408682),\n",
              " ('n', -3.5135184034391833),\n",
              " ('blissful', -3.2609974873418306),\n",
              " ('pregnancy', -2.362400990830359),\n",
              " ('makeup', -2.329296593599064),\n",
              " ('children', -2.327630948827831),\n",
              " ('pregnant', -2.326481541377873),\n",
              " ('grandkids', -2.3157610934051194),\n",
              " ('Husband', -2.2871003411345034)]"
            ]
          },
          "metadata": {
            "tags": []
          },
          "execution_count": 17
        }
      ]
    },
    {
      "cell_type": "code",
      "metadata": {
        "colab_type": "code",
        "id": "sgjkH2RXcASp",
        "outputId": "2177aff5-a260-4b59-f69e-b31a9a74e94b",
        "colab": {
          "base_uri": "https://localhost:8080/",
          "height": 187
        }
      },
      "source": [
        "sorted_combos[-10:]"
      ],
      "execution_count": 0,
      "outputs": [
        {
          "output_type": "execute_result",
          "data": {
            "text/plain": [
              "[(']', 2.058740731930371),\n",
              " ('quite', 2.10989940956454),\n",
              " ('beers', 2.1353032877306415),\n",
              " ('Another', 2.1652957755378366),\n",
              " ('smoking', 2.1827310230813795),\n",
              " ('[', 2.2150717432568197),\n",
              " ('bike', 2.2638475312214457),\n",
              " ('girl', 2.764067344569561),\n",
              " ('girlfriend', 7.648571613257071),\n",
              " ('wife', 11.555102296561204)]"
            ]
          },
          "metadata": {
            "tags": []
          },
          "execution_count": 18
        }
      ]
    },
    {
      "cell_type": "markdown",
      "metadata": {
        "colab_type": "text",
        "id": "73Yl9xoccASr"
      },
      "source": [
        "## Modifying your Features\n",
        "After seeing the results of top weights, is there anything that you would change with how you created your features? Is there any additional pre-processing that you might do?\n",
        "\n",
        "If so, try making these modifications in your CountMatrix and TFIDFMatrix, and see if it improves your results."
      ]
    },
    {
      "cell_type": "markdown",
      "metadata": {
        "colab_type": "text",
        "id": "jCp4x4krcASs"
      },
      "source": [
        "## Your Turn: Other Features?\n",
        "Are there any other features that you think could help your classifier performance? If so, try adding them!"
      ]
    },
    {
      "cell_type": "code",
      "metadata": {
        "colab_type": "code",
        "id": "vydJOhllcASs",
        "colab": {}
      },
      "source": [
        ""
      ],
      "execution_count": 0,
      "outputs": []
    },
    {
      "cell_type": "markdown",
      "metadata": {
        "colab_type": "text",
        "id": "R3ab6FkycASu"
      },
      "source": [
        "## Testing!\n",
        "\n",
        "Once you're done playing around wiht different features, you can test your best classifier on the test set!"
      ]
    },
    {
      "cell_type": "code",
      "metadata": {
        "colab_type": "code",
        "id": "6gFXWwOecASu",
        "colab": {}
      },
      "source": [
        ""
      ],
      "execution_count": 0,
      "outputs": []
    },
    {
      "cell_type": "markdown",
      "metadata": {
        "colab_type": "text",
        "id": "F-OG0b76cASw"
      },
      "source": [
        "## Reflection\n",
        "These results could tell us that different things make men and women happy. What else could they tell us?"
      ]
    },
    {
      "cell_type": "code",
      "metadata": {
        "colab_type": "code",
        "id": "hfkKNRELcASx",
        "colab": {}
      },
      "source": [
        ""
      ],
      "execution_count": 0,
      "outputs": []
    },
    {
      "cell_type": "code",
      "metadata": {
        "colab_type": "code",
        "id": "1svy15NicAS2",
        "colab": {}
      },
      "source": [
        ""
      ],
      "execution_count": 0,
      "outputs": []
    }
  ]
}