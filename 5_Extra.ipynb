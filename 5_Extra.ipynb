{
 "cells": [
  {
   "cell_type": "markdown",
   "metadata": {},
   "source": [
    "# Do you have more time?\n",
    "If you've finished the core pieces of the project early, no worries! There is always more that you can do. These ideas are fairly open-ended and are presented in no particular order; work on whatever interests you!\n",
    "\n",
    "## Reading\n",
    "The authors of the dataset wrote a paper describing it, which you can [find here on arXiv](https://arxiv.org/pdf/1801.07746.pdf). Take some time to read through the paper; what have you already accomplished that is discussed in the paper? What more can you do?\n",
    "\n",
    "## Brainstorm\n",
    "What could make HappyDB more useful or interesting? What would you add to the dataset if you had resources to collect data?\n",
    "\n",
    "## Improving Your Code\n",
    "Can you improve your code from section 4 so that you can change your classification task by changing only a few variables? Modify your code, then try predicting parenthood instead of gender!"
   ]
  },
  {
   "cell_type": "code",
   "execution_count": null,
   "metadata": {},
   "outputs": [],
   "source": [
    "import lib\n",
    "data = lib.load_joined_data()"
   ]
  },
  {
   "cell_type": "code",
   "execution_count": null,
   "metadata": {},
   "outputs": [],
   "source": [
    "for hm in data:\n",
    "    text = hm['hm_text']\n",
    "    if ' with ' in text and ' my ' in text:\n",
    "        print(text)"
   ]
  },
  {
   "cell_type": "code",
   "execution_count": null,
   "metadata": {},
   "outputs": [],
   "source": []
  }
 ],
 "metadata": {
  "kernelspec": {
   "display_name": "Python 3",
   "language": "python",
   "name": "python3"
  },
  "language_info": {
   "codemirror_mode": {
    "name": "ipython",
    "version": 3
   },
   "file_extension": ".py",
   "mimetype": "text/x-python",
   "name": "python",
   "nbconvert_exporter": "python",
   "pygments_lexer": "ipython3",
   "version": "3.7.1"
  }
 },
 "nbformat": 4,
 "nbformat_minor": 2
}
