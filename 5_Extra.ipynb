{
  "nbformat": 4,
  "nbformat_minor": 0,
  "metadata": {
    "colab": {
      "name": "5_Extra.ipynb",
      "version": "0.3.2",
      "provenance": [],
      "collapsed_sections": [],
      "include_colab_link": true
    },
    "language_info": {
      "codemirror_mode": {
        "name": "ipython",
        "version": 3
      },
      "file_extension": ".py",
      "mimetype": "text/x-python",
      "name": "python",
      "nbconvert_exporter": "python",
      "pygments_lexer": "ipython3",
      "version": "3.7.1"
    },
    "kernelspec": {
      "display_name": "Python 3",
      "language": "python",
      "name": "python3"
    }
  },
  "cells": [
    {
      "cell_type": "markdown",
      "metadata": {
        "id": "view-in-github",
        "colab_type": "text"
      },
      "source": [
        "<a href=\"https://colab.research.google.com/github/lbiester/AI4All-UM-NLP/blob/master/5_Extra.ipynb\" target=\"_parent\"><img src=\"https://colab.research.google.com/assets/colab-badge.svg\" alt=\"Open In Colab\"/></a>"
      ]
    },
    {
      "cell_type": "code",
      "metadata": {
        "id": "SyUVQpG8OHWS",
        "colab_type": "code",
        "outputId": "c246b494-a21c-4e19-cabb-d248acf0ec64",
        "colab": {
          "base_uri": "https://localhost:8080/",
          "height": 85
        }
      },
      "source": [
        "import sys\n",
        "IN_COLAB = 'google.colab' in sys.modules\n",
        "\n",
        "if IN_COLAB:\n",
        "    from google.colab import drive\n",
        "    drive.mount('/content/drive')\n",
        "    %cd '/content/drive/My Drive/AI4All-UM-NLP'\n",
        "\n",
        "    import nltk\n",
        "    nltk.download('punkt')"
      ],
      "execution_count": 0,
      "outputs": [
        {
          "output_type": "stream",
          "text": [
            "Drive already mounted at /content/drive; to attempt to forcibly remount, call drive.mount(\"/content/drive\", force_remount=True).\n",
            "/content/drive/My Drive/AI4All-UM-NLP\n",
            "[nltk_data] Downloading package punkt to /root/nltk_data...\n",
            "[nltk_data]   Package punkt is already up-to-date!\n"
          ],
          "name": "stdout"
        }
      ]
    },
    {
      "cell_type": "markdown",
      "metadata": {
        "id": "cU_9FyBeOHWQ",
        "colab_type": "text"
      },
      "source": [
        "# Do you have more time?\n",
        "If you've finished the core pieces of the project early, no worries! There is always more that you can do. These ideas are fairly open-ended and are presented in no particular order; work on whatever interests you!"
      ]
    },
    {
      "cell_type": "markdown",
      "metadata": {
        "id": "e1h18GSjG4LE",
        "colab_type": "text"
      },
      "source": [
        "## Pre-Processing Classification Features\n",
        "\n",
        "If you haven't already, consider how you might do more pre-processing for your classification features.\n",
        "\n",
        "Here are some ideas:\n",
        "1. Only count the top _n_ most frequent words, instead of including uncommon words\n",
        "1. Use an UNK token (unknown word). This can be used to represent words that appear in the test set, but not the training set. One way to do this is to count all infrequent words (say less than 5 occurrences) as UNK during training."
      ]
    },
    {
      "cell_type": "markdown",
      "metadata": {
        "id": "6H2oxuH_GmP-",
        "colab_type": "text"
      },
      "source": [
        "## N-Gram Features\n",
        "In addition to counting individual words, it is common in NLP to use n-grams, which are sequences of one or more words from text. For example, a bigram is a sequence of two words in a sentence.\n",
        "\n",
        "What are the bigrams in this sentence?\n",
        "\n",
        "\"I went to the store\"\n",
        "\n",
        "Modify your `CountMatrix` in section 4 to include bigrams.\n",
        "\n",
        "After you've done that, count"
      ]
    },
    {
      "cell_type": "markdown",
      "metadata": {
        "id": "M7TxPFWRGleW",
        "colab_type": "text"
      },
      "source": [
        "## Reading\n",
        "The authors of the dataset wrote a paper describing it, which you can [find here on arXiv](https://arxiv.org/pdf/1801.07746.pdf). Take some time to read through the paper; what have you already accomplished that is discussed in the paper? What more can you do?"
      ]
    },
    {
      "cell_type": "markdown",
      "metadata": {
        "id": "qNA1FLKzH1Nq",
        "colab_type": "text"
      },
      "source": [
        "## Brainstorm\n",
        "What could make HappyDB more useful or interesting? What would you add to the dataset if you had resources to collect data?"
      ]
    },
    {
      "cell_type": "markdown",
      "metadata": {
        "id": "cpK2UOKxH2-4",
        "colab_type": "text"
      },
      "source": [
        "## Generalization of Your Code\n",
        "Can you improve your code from section 4 so that you can change your classification task by changing only a few variables? Modify your code, then try predicting parenthood instead of gender!"
      ]
    },
    {
      "cell_type": "markdown",
      "metadata": {
        "id": "Ug8Ed9DBH5zY",
        "colab_type": "text"
      },
      "source": [
        "## New Classifiers\n",
        "Consider using different classifiers from sklearn. See if any of them improve your accuracy!"
      ]
    },
    {
      "cell_type": "code",
      "metadata": {
        "id": "hoB3vDRLGxuQ",
        "colab_type": "code",
        "colab": {}
      },
      "source": [
        ""
      ],
      "execution_count": 0,
      "outputs": []
    }
  ]
}