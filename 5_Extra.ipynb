{
  "nbformat": 4,
  "nbformat_minor": 0,
  "metadata": {
    "colab": {
      "name": "5_Extra.ipynb",
      "version": "0.3.2",
      "provenance": [],
      "collapsed_sections": [],
      "include_colab_link": true
    },
    "language_info": {
      "codemirror_mode": {
        "name": "ipython",
        "version": 3
      },
      "file_extension": ".py",
      "mimetype": "text/x-python",
      "name": "python",
      "nbconvert_exporter": "python",
      "pygments_lexer": "ipython3",
      "version": "3.7.1"
    },
    "kernelspec": {
      "display_name": "Python 3",
      "language": "python",
      "name": "python3"
    }
  },
  "cells": [
    {
      "cell_type": "markdown",
      "metadata": {
        "id": "view-in-github",
        "colab_type": "text"
      },
      "source": [
        "<a href=\"https://colab.research.google.com/github/lbiester/AI4All-UM-NLP/blob/master/5_Extra.ipynb\" target=\"_parent\"><img src=\"https://colab.research.google.com/assets/colab-badge.svg\" alt=\"Open In Colab\"/></a>"
      ]
    },
    {
      "cell_type": "code",
      "metadata": {
        "id": "SyUVQpG8OHWS",
        "colab_type": "code",
        "colab": {
          "base_uri": "https://localhost:8080/",
          "height": 85
        },
        "outputId": "c246b494-a21c-4e19-cabb-d248acf0ec64"
      },
      "source": [
        "import sys\n",
        "IN_COLAB = 'google.colab' in sys.modules\n",
        "\n",
        "if IN_COLAB:\n",
        "    from google.colab import drive\n",
        "    drive.mount('/content/drive')\n",
        "    %cd '/content/drive/My Drive/AI4All-UM-NLP'\n",
        "\n",
        "    import nltk\n",
        "    nltk.download('punkt')"
      ],
      "execution_count": 1,
      "outputs": [
        {
          "output_type": "stream",
          "text": [
            "Drive already mounted at /content/drive; to attempt to forcibly remount, call drive.mount(\"/content/drive\", force_remount=True).\n",
            "/content/drive/My Drive/AI4All-UM-NLP\n",
            "[nltk_data] Downloading package punkt to /root/nltk_data...\n",
            "[nltk_data]   Package punkt is already up-to-date!\n"
          ],
          "name": "stdout"
        }
      ]
    },
    {
      "cell_type": "markdown",
      "metadata": {
        "id": "cU_9FyBeOHWQ",
        "colab_type": "text"
      },
      "source": [
        "# Do you have more time?\n",
        "If you've finished the core pieces of the project early, no worries! There is always more that you can do. These ideas are fairly open-ended and are presented in no particular order; work on whatever interests you!\n",
        "\n",
        "## Reading\n",
        "The authors of the dataset wrote a paper describing it, which you can [find here on arXiv](https://arxiv.org/pdf/1801.07746.pdf). Take some time to read through the paper; what have you already accomplished that is discussed in the paper? What more can you do?\n",
        "\n",
        "## Brainstorm\n",
        "What could make HappyDB more useful or interesting? What would you add to the dataset if you had resources to collect data?\n",
        "\n",
        "## Improving Your Code\n",
        "Can you improve your code from section 4 so that you can change your classification task by changing only a few variables? Modify your code, then try predicting parenthood instead of gender!"
      ]
    },
    {
      "cell_type": "code",
      "metadata": {
        "id": "jD6lmBRqOHWU",
        "colab_type": "code",
        "colab": {}
      },
      "source": [
        ""
      ],
      "execution_count": 0,
      "outputs": []
    },
    {
      "cell_type": "code",
      "metadata": {
        "id": "JYD-p8IKOHWW",
        "colab_type": "code",
        "colab": {}
      },
      "source": [
        ""
      ],
      "execution_count": 0,
      "outputs": []
    }
  ]
}