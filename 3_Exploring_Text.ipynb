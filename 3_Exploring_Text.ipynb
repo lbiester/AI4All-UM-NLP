{
 "cells": [
  {
   "cell_type": "code",
   "execution_count": null,
   "metadata": {},
   "outputs": [],
   "source": [
    "from collections import Counter\n",
    "import lib\n",
    "import pandas as pd\n",
    "import nltk\n",
    "import itertools"
   ]
  },
  {
   "cell_type": "markdown",
   "metadata": {},
   "source": [
    "## Is happiness seasonal?\n",
    "Determine whether or not people mention different seasons more in relation to their happiness. We provide the list of seasons. Which season makes people happiest?"
   ]
  },
  {
   "cell_type": "code",
   "execution_count": null,
   "metadata": {},
   "outputs": [],
   "source": [
    "demographics = lib.load_demographics()\n",
    "happy_moments = lib.load_happy_moments()\n",
    "\n",
    "joined_data = pd.merge(demographics, happy_moments, left_on='wid', right_on='wid').set_index('hmid')\n",
    "\n",
    "def get_hm_tokens(happy_moments):\n",
    "    hm_tokens = {}\n",
    "    for row in happy_moments.itertuples():\n",
    "        hm_tokens[row.hmid] = []\n",
    "        for token in nltk.word_tokenize(row.cleaned_hm):\n",
    "            hm_tokens[row.hmid].append(token.lower())\n",
    "    return hm_tokens\n",
    "\n",
    "hm_tokens = get_hm_tokens(happy_moments)\n",
    "all_tokens = list(itertools.chain.from_iterable(hm_tokens.values()))"
   ]
  },
  {
   "cell_type": "code",
   "execution_count": null,
   "metadata": {},
   "outputs": [],
   "source": [
    "seasons = ['spring', 'summer', 'fall', 'winter']"
   ]
  },
  {
   "cell_type": "code",
   "execution_count": null,
   "metadata": {},
   "outputs": [],
   "source": [
    "def count_seasons(all_tokens):\n",
    "    counts = Counter()\n",
    "    for token in all_tokens:\n",
    "        if token in seasons:\n",
    "            counts[token] += 1\n",
    "    print(counts)\n",
    "count_seasons(all_tokens)"
   ]
  },
  {
   "cell_type": "markdown",
   "metadata": {},
   "source": [
    "### The magic of tokenization\n",
    "nltk's word tokenize algorithm is trained to handle special cases like punctuation. However, a simple \"tokenizer\" is python's `string.split` function, which splits a string on white space.\n",
    "\n",
    "Create a list of tokens using `string.split` instead of `nltk.word_tokenize`. Do you get different results? Look at the CSV files (<span style=\"color:red\">TODO:</span> make sure this is possible in collab) - can you see why?"
   ]
  },
  {
   "cell_type": "code",
   "execution_count": null,
   "metadata": {},
   "outputs": [],
   "source": [
    "split_tokens = itertools.chain.from_iterable([[s.lower() for s in text.split()] for text in happy_moments['cleaned_hm']])\n",
    "count_seasons(split_tokens)"
   ]
  },
  {
   "cell_type": "code",
   "execution_count": null,
   "metadata": {},
   "outputs": [],
   "source": []
  }
 ],
 "metadata": {
  "kernelspec": {
   "display_name": "Python 3",
   "language": "python",
   "name": "python3"
  },
  "language_info": {
   "codemirror_mode": {
    "name": "ipython",
    "version": 3
   },
   "file_extension": ".py",
   "mimetype": "text/x-python",
   "name": "python",
   "nbconvert_exporter": "python",
   "pygments_lexer": "ipython3",
   "version": "3.7.1"
  }
 },
 "nbformat": 4,
 "nbformat_minor": 2
}
