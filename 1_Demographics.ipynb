{
  "nbformat": 4,
  "nbformat_minor": 0,
  "metadata": {
    "colab": {
      "name": "1_Demographics.ipynb",
      "version": "0.3.2",
      "provenance": [],
      "collapsed_sections": [],
      "include_colab_link": true
    },
    "language_info": {
      "codemirror_mode": {
        "name": "ipython",
        "version": 3
      },
      "file_extension": ".py",
      "mimetype": "text/x-python",
      "name": "python",
      "nbconvert_exporter": "python",
      "pygments_lexer": "ipython3",
      "version": "3.7.1"
    },
    "kernelspec": {
      "display_name": "Python 3",
      "language": "python",
      "name": "python3"
    }
  },
  "cells": [
    {
      "cell_type": "markdown",
      "metadata": {
        "id": "view-in-github",
        "colab_type": "text"
      },
      "source": [
        "<a href=\"https://colab.research.google.com/github/lbiester/AI4All-UM-NLP/blob/master/1_Demographics.ipynb\" target=\"_parent\"><img src=\"https://colab.research.google.com/assets/colab-badge.svg\" alt=\"Open In Colab\"/></a>"
      ]
    },
    {
      "cell_type": "code",
      "metadata": {
        "id": "wNkyzL6yaQni",
        "colab_type": "code",
        "colab": {
          "base_uri": "https://localhost:8080/",
          "height": 85
        },
        "outputId": "8d353cac-b970-4153-e8a8-f41ffae3194c"
      },
      "source": [
        "import sys\n",
        "IN_COLAB = 'google.colab' in sys.modules\n",
        "\n",
        "if IN_COLAB:\n",
        "    from google.colab import drive\n",
        "    drive.mount('/content/drive')\n",
        "    %cd '/content/drive/My Drive/AI4All-UM-NLP'\n",
        "    import nltk\n",
        "    nltk.download('punkt')"
      ],
      "execution_count": 1,
      "outputs": [
        {
          "output_type": "stream",
          "text": [
            "Drive already mounted at /content/drive; to attempt to forcibly remount, call drive.mount(\"/content/drive\", force_remount=True).\n",
            "/content/drive/My Drive/AI4All-UM-NLP\n",
            "[nltk_data] Downloading package punkt to /root/nltk_data...\n",
            "[nltk_data]   Unzipping tokenizers/punkt.zip.\n"
          ],
          "name": "stdout"
        }
      ]
    },
    {
      "cell_type": "code",
      "metadata": {
        "id": "0M7O974naKb1",
        "colab_type": "code",
        "colab": {}
      },
      "source": [
        "%load_ext autoreload\n",
        "%autoreload 2\n",
        "import lib\n",
        "from collections import Counter\n",
        "import numpy as np"
      ],
      "execution_count": 0,
      "outputs": []
    },
    {
      "cell_type": "markdown",
      "metadata": {
        "id": "eU1kLJMmaKb4",
        "colab_type": "text"
      },
      "source": [
        "# Loading the Data and Checking Demographics\n",
        "We have two data files: demographic.csv and cleaned_hm.csv.\n",
        "\n",
        "* demographic.csv contains demogrpahic information about the individuals who are represented in the dataset  \n",
        "  The dataset can be loaded as a list of dictionaries by calling `lib.load_demographics()`. The key in the dictionary is the worker ID (wid).\n",
        "\n",
        "* cleaned_hm.csv contains 100,000 crowd-sourced happy moments. Worker IDs listed correspond to `wid` in demographic.csv.  \n",
        "  The dataset can be loaded as a list of dictionaries by calling `lib.load_happy_moments()`. The key in the dictionary is the happy moment ID (hmid).\n",
        "  \n",
        "You may find `lib.load_joined_data()` to be particularly useful, as it will load all of the data you will need without you needing to combine the two tables together! The format is a list of dictionaries.\n",
        "  \n",
        "We will load the data files here using the pandas library so that you can see what each file looks like; however, you aren't expected to learn how to work with pandas, so we provide functions to load the data as a dictionary"
      ]
    },
    {
      "cell_type": "code",
      "metadata": {
        "id": "yqgRbdBBaKb5",
        "colab_type": "code",
        "colab": {
          "base_uri": "https://localhost:8080/",
          "height": 359
        },
        "outputId": "60013910-c4bc-43f6-e2c9-da076638f706"
      },
      "source": [
        "lib.view_demographics()"
      ],
      "execution_count": 3,
      "outputs": [
        {
          "output_type": "execute_result",
          "data": {
            "text/html": [
              "<div>\n",
              "<style scoped>\n",
              "    .dataframe tbody tr th:only-of-type {\n",
              "        vertical-align: middle;\n",
              "    }\n",
              "\n",
              "    .dataframe tbody tr th {\n",
              "        vertical-align: top;\n",
              "    }\n",
              "\n",
              "    .dataframe thead th {\n",
              "        text-align: right;\n",
              "    }\n",
              "</style>\n",
              "<table border=\"1\" class=\"dataframe\">\n",
              "  <thead>\n",
              "    <tr style=\"text-align: right;\">\n",
              "      <th></th>\n",
              "      <th>wid</th>\n",
              "      <th>age</th>\n",
              "      <th>country</th>\n",
              "      <th>gender</th>\n",
              "      <th>marital</th>\n",
              "      <th>parenthood</th>\n",
              "    </tr>\n",
              "  </thead>\n",
              "  <tbody>\n",
              "    <tr>\n",
              "      <th>0</th>\n",
              "      <td>1</td>\n",
              "      <td>37.0</td>\n",
              "      <td>USA</td>\n",
              "      <td>m</td>\n",
              "      <td>married</td>\n",
              "      <td>y</td>\n",
              "    </tr>\n",
              "    <tr>\n",
              "      <th>1</th>\n",
              "      <td>2</td>\n",
              "      <td>29.0</td>\n",
              "      <td>IND</td>\n",
              "      <td>m</td>\n",
              "      <td>married</td>\n",
              "      <td>y</td>\n",
              "    </tr>\n",
              "    <tr>\n",
              "      <th>2</th>\n",
              "      <td>3</td>\n",
              "      <td>25</td>\n",
              "      <td>IND</td>\n",
              "      <td>m</td>\n",
              "      <td>single</td>\n",
              "      <td>n</td>\n",
              "    </tr>\n",
              "    <tr>\n",
              "      <th>3</th>\n",
              "      <td>4</td>\n",
              "      <td>32</td>\n",
              "      <td>USA</td>\n",
              "      <td>m</td>\n",
              "      <td>married</td>\n",
              "      <td>y</td>\n",
              "    </tr>\n",
              "    <tr>\n",
              "      <th>4</th>\n",
              "      <td>5</td>\n",
              "      <td>29</td>\n",
              "      <td>USA</td>\n",
              "      <td>m</td>\n",
              "      <td>married</td>\n",
              "      <td>y</td>\n",
              "    </tr>\n",
              "    <tr>\n",
              "      <th>5</th>\n",
              "      <td>6</td>\n",
              "      <td>35</td>\n",
              "      <td>IND</td>\n",
              "      <td>m</td>\n",
              "      <td>married</td>\n",
              "      <td>y</td>\n",
              "    </tr>\n",
              "    <tr>\n",
              "      <th>6</th>\n",
              "      <td>7</td>\n",
              "      <td>34</td>\n",
              "      <td>USA</td>\n",
              "      <td>m</td>\n",
              "      <td>married</td>\n",
              "      <td>y</td>\n",
              "    </tr>\n",
              "    <tr>\n",
              "      <th>7</th>\n",
              "      <td>8</td>\n",
              "      <td>29</td>\n",
              "      <td>VNM</td>\n",
              "      <td>m</td>\n",
              "      <td>single</td>\n",
              "      <td>n</td>\n",
              "    </tr>\n",
              "    <tr>\n",
              "      <th>8</th>\n",
              "      <td>9</td>\n",
              "      <td>61</td>\n",
              "      <td>USA</td>\n",
              "      <td>f</td>\n",
              "      <td>married</td>\n",
              "      <td>y</td>\n",
              "    </tr>\n",
              "    <tr>\n",
              "      <th>9</th>\n",
              "      <td>10</td>\n",
              "      <td>27</td>\n",
              "      <td>USA</td>\n",
              "      <td>m</td>\n",
              "      <td>single</td>\n",
              "      <td>n</td>\n",
              "    </tr>\n",
              "  </tbody>\n",
              "</table>\n",
              "</div>"
            ],
            "text/plain": [
              "   wid   age country gender  marital parenthood\n",
              "0    1  37.0     USA      m  married          y\n",
              "1    2  29.0     IND      m  married          y\n",
              "2    3    25     IND      m   single          n\n",
              "3    4    32     USA      m  married          y\n",
              "4    5    29     USA      m  married          y\n",
              "5    6    35     IND      m  married          y\n",
              "6    7    34     USA      m  married          y\n",
              "7    8    29     VNM      m   single          n\n",
              "8    9    61     USA      f  married          y\n",
              "9   10    27     USA      m   single          n"
            ]
          },
          "metadata": {
            "tags": []
          },
          "execution_count": 3
        }
      ]
    },
    {
      "cell_type": "code",
      "metadata": {
        "id": "25kkTQtXaKb7",
        "colab_type": "code",
        "colab": {
          "base_uri": "https://localhost:8080/",
          "height": 512
        },
        "outputId": "00923c4f-42f9-41a9-a160-29d73067b0dd"
      },
      "source": [
        "lib.view_happy_moments()"
      ],
      "execution_count": 4,
      "outputs": [
        {
          "output_type": "execute_result",
          "data": {
            "text/html": [
              "<div>\n",
              "<style scoped>\n",
              "    .dataframe tbody tr th:only-of-type {\n",
              "        vertical-align: middle;\n",
              "    }\n",
              "\n",
              "    .dataframe tbody tr th {\n",
              "        vertical-align: top;\n",
              "    }\n",
              "\n",
              "    .dataframe thead th {\n",
              "        text-align: right;\n",
              "    }\n",
              "</style>\n",
              "<table border=\"1\" class=\"dataframe\">\n",
              "  <thead>\n",
              "    <tr style=\"text-align: right;\">\n",
              "      <th></th>\n",
              "      <th>hmid</th>\n",
              "      <th>wid</th>\n",
              "      <th>reflection_period</th>\n",
              "      <th>original_hm</th>\n",
              "      <th>cleaned_hm</th>\n",
              "      <th>modified</th>\n",
              "      <th>num_sentence</th>\n",
              "      <th>ground_truth_category</th>\n",
              "      <th>predicted_category</th>\n",
              "    </tr>\n",
              "  </thead>\n",
              "  <tbody>\n",
              "    <tr>\n",
              "      <th>0</th>\n",
              "      <td>27673</td>\n",
              "      <td>2053</td>\n",
              "      <td>24h</td>\n",
              "      <td>I went on a successful date with someone I fel...</td>\n",
              "      <td>I went on a successful date with someone I fel...</td>\n",
              "      <td>True</td>\n",
              "      <td>1</td>\n",
              "      <td>NaN</td>\n",
              "      <td>affection</td>\n",
              "    </tr>\n",
              "    <tr>\n",
              "      <th>1</th>\n",
              "      <td>27674</td>\n",
              "      <td>2</td>\n",
              "      <td>24h</td>\n",
              "      <td>I was happy when my son got 90% marks in his e...</td>\n",
              "      <td>I was happy when my son got 90% marks in his e...</td>\n",
              "      <td>True</td>\n",
              "      <td>1</td>\n",
              "      <td>NaN</td>\n",
              "      <td>affection</td>\n",
              "    </tr>\n",
              "    <tr>\n",
              "      <th>2</th>\n",
              "      <td>27675</td>\n",
              "      <td>1936</td>\n",
              "      <td>24h</td>\n",
              "      <td>I went to the gym this morning and did yoga.</td>\n",
              "      <td>I went to the gym this morning and did yoga.</td>\n",
              "      <td>True</td>\n",
              "      <td>1</td>\n",
              "      <td>NaN</td>\n",
              "      <td>exercise</td>\n",
              "    </tr>\n",
              "    <tr>\n",
              "      <th>3</th>\n",
              "      <td>27676</td>\n",
              "      <td>206</td>\n",
              "      <td>24h</td>\n",
              "      <td>We had a serious talk with some friends of our...</td>\n",
              "      <td>We had a serious talk with some friends of our...</td>\n",
              "      <td>True</td>\n",
              "      <td>2</td>\n",
              "      <td>bonding</td>\n",
              "      <td>bonding</td>\n",
              "    </tr>\n",
              "    <tr>\n",
              "      <th>4</th>\n",
              "      <td>27677</td>\n",
              "      <td>6227</td>\n",
              "      <td>24h</td>\n",
              "      <td>I went with grandchildren to butterfly display...</td>\n",
              "      <td>I went with grandchildren to butterfly display...</td>\n",
              "      <td>True</td>\n",
              "      <td>1</td>\n",
              "      <td>NaN</td>\n",
              "      <td>affection</td>\n",
              "    </tr>\n",
              "    <tr>\n",
              "      <th>5</th>\n",
              "      <td>27678</td>\n",
              "      <td>45</td>\n",
              "      <td>24h</td>\n",
              "      <td>I meditated last night.</td>\n",
              "      <td>I meditated last night.</td>\n",
              "      <td>True</td>\n",
              "      <td>1</td>\n",
              "      <td>leisure</td>\n",
              "      <td>leisure</td>\n",
              "    </tr>\n",
              "    <tr>\n",
              "      <th>6</th>\n",
              "      <td>27679</td>\n",
              "      <td>195</td>\n",
              "      <td>24h</td>\n",
              "      <td>I made a new recipe for peasant bread, and it ...</td>\n",
              "      <td>I made a new recipe for peasant bread, and it ...</td>\n",
              "      <td>True</td>\n",
              "      <td>1</td>\n",
              "      <td>NaN</td>\n",
              "      <td>achievement</td>\n",
              "    </tr>\n",
              "    <tr>\n",
              "      <th>7</th>\n",
              "      <td>27680</td>\n",
              "      <td>740</td>\n",
              "      <td>24h</td>\n",
              "      <td>I got gift from my elder brother which was rea...</td>\n",
              "      <td>I got gift from my elder brother which was rea...</td>\n",
              "      <td>True</td>\n",
              "      <td>1</td>\n",
              "      <td>NaN</td>\n",
              "      <td>affection</td>\n",
              "    </tr>\n",
              "    <tr>\n",
              "      <th>8</th>\n",
              "      <td>27681</td>\n",
              "      <td>3</td>\n",
              "      <td>24h</td>\n",
              "      <td>YESTERDAY MY MOMS BIRTHDAY SO I ENJOYED</td>\n",
              "      <td>YESTERDAY MY MOMS BIRTHDAY SO I ENJOYED</td>\n",
              "      <td>True</td>\n",
              "      <td>1</td>\n",
              "      <td>NaN</td>\n",
              "      <td>enjoy_the_moment</td>\n",
              "    </tr>\n",
              "    <tr>\n",
              "      <th>9</th>\n",
              "      <td>27682</td>\n",
              "      <td>4833</td>\n",
              "      <td>24h</td>\n",
              "      <td>Watching cupcake wars with my three teen children</td>\n",
              "      <td>Watching cupcake wars with my three teen children</td>\n",
              "      <td>True</td>\n",
              "      <td>1</td>\n",
              "      <td>NaN</td>\n",
              "      <td>affection</td>\n",
              "    </tr>\n",
              "  </tbody>\n",
              "</table>\n",
              "</div>"
            ],
            "text/plain": [
              "    hmid   wid  ... ground_truth_category predicted_category\n",
              "0  27673  2053  ...                   NaN          affection\n",
              "1  27674     2  ...                   NaN          affection\n",
              "2  27675  1936  ...                   NaN           exercise\n",
              "3  27676   206  ...               bonding            bonding\n",
              "4  27677  6227  ...                   NaN          affection\n",
              "5  27678    45  ...               leisure            leisure\n",
              "6  27679   195  ...                   NaN        achievement\n",
              "7  27680   740  ...                   NaN          affection\n",
              "8  27681     3  ...                   NaN   enjoy_the_moment\n",
              "9  27682  4833  ...                   NaN          affection\n",
              "\n",
              "[10 rows x 9 columns]"
            ]
          },
          "metadata": {
            "tags": []
          },
          "execution_count": 4
        }
      ]
    },
    {
      "cell_type": "markdown",
      "metadata": {
        "id": "cJ2lD1iqaKb9",
        "colab_type": "text"
      },
      "source": [
        "Right now, we will only be working with the demographics file. Load it with the function that is mentioned above."
      ]
    },
    {
      "cell_type": "code",
      "metadata": {
        "id": "NgzwJU47aKb9",
        "colab_type": "code",
        "colab": {}
      },
      "source": [
        "demographics = lib.load_demographics()"
      ],
      "execution_count": 0,
      "outputs": []
    },
    {
      "cell_type": "markdown",
      "metadata": {
        "id": "_xFArYjvaKb_",
        "colab_type": "text"
      },
      "source": [
        "## Aggregating Demographic Information\n",
        "This data was crowdsourced, and demographic information was collected about worker's ages, countries, genders, marital status, and parenthood. To better understand the dataset, fill in the function called `get_distribution` to calculate the distribution of workers in each category for a certain property."
      ]
    },
    {
      "cell_type": "code",
      "metadata": {
        "id": "tyO3HDsSaKcA",
        "colab_type": "code",
        "colab": {}
      },
      "source": [
        "def get_distribution(demographics, worker_property):\n",
        "    counts = Counter([worker[worker_property] for worker in demographics])\n",
        "    total = sum(counts.values())\n",
        "    distribution = {category: (100 * count / total) for category, count in counts.items()}\n",
        "    # return a dictionary that maps a property to a percent\n",
        "    return distribution"
      ],
      "execution_count": 0,
      "outputs": []
    },
    {
      "cell_type": "markdown",
      "metadata": {
        "id": "EKqzznI_aKcB",
        "colab_type": "text"
      },
      "source": [
        "After writing your function, run the cell below to save each distribution"
      ]
    },
    {
      "cell_type": "code",
      "metadata": {
        "id": "7UYaqYv5aKcC",
        "colab_type": "code",
        "colab": {}
      },
      "source": [
        "age_distribution = get_distribution(demographics, 'age')\n",
        "country_distribution = get_distribution(demographics, 'country')\n",
        "gender_distribution = get_distribution(demographics, 'gender')\n",
        "marital_distribution = get_distribution(demographics, 'marital')\n",
        "parenthood_distribution = get_distribution(demographics, 'parenthood')"
      ],
      "execution_count": 0,
      "outputs": []
    },
    {
      "cell_type": "markdown",
      "metadata": {
        "id": "yNlCKfhWaKcE",
        "colab_type": "text"
      },
      "source": [
        "Now, print out the distributions for marital status, country, and age. You can pass your dictionary to the function `lib.print_as_table` to print a table containing the distribution for better readability. The function takes two arguments: the dictionary and the title for the table."
      ]
    },
    {
      "cell_type": "code",
      "metadata": {
        "id": "OIlB22jtaKcF",
        "colab_type": "code",
        "colab": {}
      },
      "source": [
        "lib.print_as_table(age_distribution, 'Age Distribution')\n",
        "lib.print_as_table(country_distribution, 'Country Distribution')\n",
        "lib.print_as_table(marital_distribution, 'Marital Distribution')"
      ],
      "execution_count": 0,
      "outputs": []
    },
    {
      "cell_type": "markdown",
      "metadata": {
        "id": "zFElWZnCaKcH",
        "colab_type": "text"
      },
      "source": [
        "If you wrote a fairly simple function to create your dictionary, you may notice some issues with these tables that make them less informative than we would like:\n",
        "1. There are a lot of ages! Furthermore, some are represented as floats and some are ints, but 25 and 25.0 should mean the same thing!\n",
        "1. There are also a lot of countries, but only two of them (USA and India) are very prevalent.\n",
        "1. There are some _weird_ unwanted values like nan (not a number, which means that this was not filled in in the table) and \"prefer not to say\" for age.\n",
        "\n",
        "To solve these problems, we will write three more functions:\n",
        "1. `get_age_distribution`  \n",
        "   This function will get the distribution of ages using a range instead of using single ages. You can use the buckets 10–20, 20–30, ..., 80-90. If you come across a value that does not fit in one of the ranges, skip it!\n",
        "2. `get_country_distribution`  \n",
        "   This function will get the distribution of countries, but will group together all countries with less than .4% of the overall workers into one group that you should call \"OTHER\". You should exclude nan values.\n",
        "3. `get_distribution_new`  \n",
        "   This function should be the same as your original `get_distribution` function, but should ignore nan values!"
      ]
    },
    {
      "cell_type": "code",
      "metadata": {
        "id": "DPtMxt8YaKcI",
        "colab_type": "code",
        "colab": {}
      },
      "source": [
        "def get_age_distribution(demographics):\n",
        "    buckets = ['10-20', '20-30', '30-40', '40-50', '50-60', '60-70', '70-80', '80-90']\n",
        "    counts = Counter()\n",
        "    for worker in demographics:\n",
        "        age = worker['age']\n",
        "        try:\n",
        "            age = int(float(age))\n",
        "        except:\n",
        "            # in this case the input is bad\n",
        "            continue\n",
        "        bucket_id = int((age - (age % 10)) / 10 - 1)\n",
        "        if bucket_id < len(buckets):\n",
        "            bucket = buckets[bucket_id]\n",
        "            counts[buckets[bucket_id]] += 1\n",
        "    total = sum(counts.values())\n",
        "    distribution = {category: (100 * count / total) for category, count in counts.items()}\n",
        "    return distribution\n",
        "\n",
        "\n",
        "def get_country_distribution(demographics):\n",
        "    distribution = get_distribution(demographics, 'country')\n",
        "    modified_distribution = {}\n",
        "    other = 0\n",
        "    for k, v in distribution.items():\n",
        "        if v < 0.4:\n",
        "            other += v\n",
        "        else:\n",
        "            modified_distribution[k] = v\n",
        "    modified_distribution['OTHER'] = other\n",
        "    return modified_distribution\n",
        "\n",
        "def get_distribution_new(demographics, worker_property):\n",
        "    demographics = [worker for worker in demographics if type(worker[worker_property]) == str or not np.isnan(worker[worker_property])]\n",
        "    # if this is called with one of the properties that we have a special function for, call that function instead!\n",
        "    if worker_property == 'age':\n",
        "        return get_age_distribution(demographics)\n",
        "    elif worker_property == 'country':\n",
        "        return get_country_distribution(demographics)\n",
        "    return get_distribution(demographics, worker_property)"
      ],
      "execution_count": 0,
      "outputs": []
    },
    {
      "cell_type": "code",
      "metadata": {
        "id": "fM5tOT3LaKcL",
        "colab_type": "code",
        "colab": {}
      },
      "source": [
        "age_distribution = get_distribution_new(demographics, 'age')\n",
        "country_distribution = get_distribution_new(demographics, 'country')\n",
        "gender_distribution = get_distribution_new(demographics, 'gender')\n",
        "marital_distribution = get_distribution_new(demographics, 'marital')\n",
        "parenthood_distribution = get_distribution_new(demographics, 'parenthood')"
      ],
      "execution_count": 0,
      "outputs": []
    },
    {
      "cell_type": "code",
      "metadata": {
        "id": "0ALr70U4aKcN",
        "colab_type": "code",
        "colab": {}
      },
      "source": [
        "lib.print_as_table(age_distribution, 'Age Distribution')\n",
        "lib.print_as_table(country_distribution, 'Country Distribution')\n",
        "lib.print_as_table(marital_distribution, 'Marital Distribution')\n",
        "lib.print_as_table(gender_distribution, 'Gender Distribution')\n",
        "lib.print_as_table(parenthood_distribution, 'Parenthood Distribution')"
      ],
      "execution_count": 0,
      "outputs": []
    },
    {
      "cell_type": "markdown",
      "metadata": {
        "id": "8GTgCGjoaKcO",
        "colab_type": "text"
      },
      "source": [
        "## Distribution Visualizations\n",
        "\n",
        "Finally, using the library functions `lib.create_histogram` and `lib.create_pie`, create histograms and pie charts for our properties. Create a histogram for age; for the other properties, create pie charts. The functions take two parameters: the distributions and a title"
      ]
    },
    {
      "cell_type": "code",
      "metadata": {
        "id": "IREkG5tnaKcP",
        "colab_type": "code",
        "colab": {}
      },
      "source": [
        "lib.create_pie(age_distribution, 'Age Distribution')\n",
        "lib.create_pie(country_distribution, 'Country Distribution')\n",
        "lib.create_pie(marital_distribution, 'Marital Distribution')\n",
        "lib.create_pie(gender_distribution, 'Gender Distribution')\n",
        "lib.create_pie(parenthood_distribution, 'Parenthood Distribution')"
      ],
      "execution_count": 0,
      "outputs": []
    },
    {
      "cell_type": "code",
      "metadata": {
        "id": "7KVbkO23ard1",
        "colab_type": "code",
        "colab": {}
      },
      "source": [
        ""
      ],
      "execution_count": 0,
      "outputs": []
    }
  ]
}