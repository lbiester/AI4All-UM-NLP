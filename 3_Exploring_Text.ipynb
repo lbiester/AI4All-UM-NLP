{
 "cells": [
  {
   "cell_type": "code",
   "execution_count": null,
   "metadata": {},
   "outputs": [],
   "source": [
    "from collections import Counter\n",
    "import lib\n",
    "import pandas as pd\n",
    "import nltk\n",
    "import itertools"
   ]
  },
  {
   "cell_type": "markdown",
   "metadata": {},
   "source": [
    "## Is happiness seasonal?\n",
    "Determine whether or not people mention different seasons more in relation to their happiness. We provide the list of seasons. Which season makes people happiest?\n",
    "\n",
    "Write the `get_all_tokens` function with `nltk.word_tokenize` to get all of the tokens from `joined_data`. Remember, you wrote code to do this before in section 2. Feel free to copy it over!"
   ]
  },
  {
   "cell_type": "code",
   "execution_count": null,
   "metadata": {},
   "outputs": [],
   "source": [
    "joined_data = lib.load_joined_data()\n",
    "\n",
    "def get_all_tokens(joined_data):\n",
    "    tokens = []\n",
    "    for hm in joined_data:\n",
    "        tokens.extend(nltk.word_tokenize(hm['hm_text'].lower()))\n",
    "    return tokens\n",
    "\n",
    "all_tokens = get_all_tokens(joined_data)"
   ]
  },
  {
   "cell_type": "code",
   "execution_count": null,
   "metadata": {},
   "outputs": [],
   "source": [
    "seasons = ['spring', 'summer', 'fall', 'winter']"
   ]
  },
  {
   "cell_type": "code",
   "execution_count": null,
   "metadata": {},
   "outputs": [],
   "source": [
    "def count_seasons(all_tokens):\n",
    "    counts = Counter()\n",
    "    for token in all_tokens:\n",
    "        if token in seasons:\n",
    "            counts[token] += 1\n",
    "    print(counts)\n",
    "count_seasons(all_tokens)"
   ]
  },
  {
   "cell_type": "markdown",
   "metadata": {},
   "source": [
    "### The magic of preprocesssing\n",
    "nltk's word tokenize algorithm is trained to handle special cases like punctuation. However, a simple \"tokenizer\" is python's `string.split` function, which splits a string on white space.\n",
    "\n",
    "Write a new function, `get_all_tokens_split`, where you create your list of tokens using `string.split` instead of `nltk.word_tokenize`. Do you get different results? Look at the CSV files (<span style=\"color:red\">TODO:</span> make sure this is possible in collab) - can you see why?"
   ]
  },
  {
   "cell_type": "code",
   "execution_count": null,
   "metadata": {},
   "outputs": [],
   "source": [
    "def get_all_tokens_split(joined_data):\n",
    "    tokens = []\n",
    "    for hm in joined_data:\n",
    "        tokens.extend(hm['hm_text'].lower().split())\n",
    "    return tokens\n",
    "\n",
    "all_tokens_split = get_all_tokens_split(joined_data)\n",
    "\n",
    "count_seasons(all_tokens_split)"
   ]
  },
  {
   "cell_type": "markdown",
   "metadata": {},
   "source": [
    "How about if you don't use `lower` to ignore case? Write one more function, `get_all_tokens_split_case_sensitive`, which does the same thing as `get_all_tokens_split` but doesn't ignore case. Check the results of `count_seasons` again. This time, we'll use upper case for our seasons."
   ]
  },
  {
   "cell_type": "code",
   "execution_count": null,
   "metadata": {},
   "outputs": [],
   "source": [
    "seasons = ['Spring', 'Summer', 'Fall', 'Winter']\n",
    "\n",
    "def get_all_tokens_split_case_sensitive(joined_data):\n",
    "    tokens = []\n",
    "    for hm in joined_data:\n",
    "        tokens.extend(hm['hm_text'].split())\n",
    "    return tokens\n",
    "\n",
    "all_tokens_split_case_sensitive = get_all_tokens_split_case_sensitive(joined_data)\n",
    "\n",
    "count_seasons(all_tokens_split_case_sensitive)"
   ]
  },
  {
   "cell_type": "markdown",
   "metadata": {},
   "source": [
    "Which results seem most \"correct\" to you? Which pre-processing method is the most robust?"
   ]
  },
  {
   "cell_type": "markdown",
   "metadata": {},
   "source": [
    "## TODO: More Sophisticated Entity Extraction"
   ]
  },
  {
   "cell_type": "code",
   "execution_count": null,
   "metadata": {},
   "outputs": [],
   "source": []
  }
 ],
 "metadata": {
  "kernelspec": {
   "display_name": "Python 3",
   "language": "python",
   "name": "python3"
  },
  "language_info": {
   "codemirror_mode": {
    "name": "ipython",
    "version": 3
   },
   "file_extension": ".py",
   "mimetype": "text/x-python",
   "name": "python",
   "nbconvert_exporter": "python",
   "pygments_lexer": "ipython3",
   "version": "3.7.1"
  }
 },
 "nbformat": 4,
 "nbformat_minor": 2
}
