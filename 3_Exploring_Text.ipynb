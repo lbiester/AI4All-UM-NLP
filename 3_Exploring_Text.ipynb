{
 "cells": [
  {
   "cell_type": "code",
   "execution_count": 0,
   "metadata": {
    "colab": {},
    "colab_type": "code",
    "id": "AtW0wGEdbhTY"
   },
   "outputs": [],
   "source": [
    "import sys\n",
    "IN_COLAB = 'google.colab' in sys.modules\n",
    "\n",
    "if IN_COLAB:\n",
    "    from google.colab import drive\n",
    "    drive.mount('/content/drive')\n",
    "    %cd '/content/drive/My Drive/AI4All-UM-NLP'\n",
    "\n",
    "    import nltk\n",
    "    nltk.download('punkt')"
   ]
  },
  {
   "cell_type": "code",
   "execution_count": 0,
   "metadata": {
    "colab": {},
    "colab_type": "code",
    "id": "ccimXCGTbelz"
   },
   "outputs": [],
   "source": [
    "from collections import Counter\n",
    "import lib\n",
    "import pandas as pd\n",
    "import nltk\n",
    "import itertools\n",
    "import spacy"
   ]
  },
  {
   "cell_type": "markdown",
   "metadata": {
    "colab_type": "text",
    "id": "IhhxdMS_D6A1"
   },
   "source": [
    "# Is happiness seasonal?\n",
    "Determine whether or not people mention different seasons more in relation to their happiness. We provide the list of seasons. Which season makes people happiest?\n",
    "\n",
    "Before we figure this out, we're going to explore an important NLP tool."
   ]
  },
  {
   "cell_type": "markdown",
   "metadata": {
    "colab_type": "text",
    "id": "rCgy8z36v0iN"
   },
   "source": [
    "## Tokenization\n",
    "We used tokenization in the last notebook, but we didn't really learn much about it. Before we continue to look at seasons, let's learn a bit more about tokenization.\n",
    "\n",
    "Tokenization is one of the first pre-processing steps in NLP. It is the process of splitting a string of text into individual tokens. You can think of a token as an individual word or a piece of punctuation.\n",
    "\n",
    "You may have seen the method `split`, which is used for strings in python. It takes a string and splits it into words, based on white space.\n",
    "\n",
    "\n",
    "NLTK, a python toolkit for NLP, has its own function, `nltk.word_tokenize`. This is a \"smarter\" version of tokenization. Let's see why. Tokenize the sentence below using both methods. What is the main difference?\n",
    "\n",
    "\n",
    "To call `split` on a string, write `string.split()`\n",
    "To call `word_tokenize` on a string, write `nltk.word_tokenize(string)`"
   ]
  },
  {
   "cell_type": "code",
   "execution_count": 0,
   "metadata": {
    "colab": {},
    "colab_type": "code",
    "id": "Y7Ccum7ow6K0"
   },
   "outputs": [],
   "source": [
    "sentence = 'When I went to the store today, I bought apples, bananas, and oranges!'\n",
    "\n",
    "# print out the list returned using `split`\n",
    "### YOUR WORK HERE!!!\n",
    "\n",
    "\n",
    "# print out the list returned using `word_tokenize`\n",
    "### YOUR WORK HERE!!!\n"
   ]
  },
  {
   "cell_type": "markdown",
   "metadata": {
    "colab_type": "text",
    "id": "bjXGYtgIxK0U"
   },
   "source": [
    "What major differences do you see?"
   ]
  },
  {
   "cell_type": "markdown",
   "metadata": {
    "colab_type": "text",
    "id": "1NdFrsQJEXfX"
   },
   "source": []
  },
  {
   "cell_type": "markdown",
   "metadata": {
    "colab_type": "text",
    "id": "sgnyiGcPEZFt"
   },
   "source": [
    "Now, create a list of all tokens in the dataset. If you get stuck, you can look at what we did in the last notebook. Make sure to use `nltk.word_tokenize`, _and_ make each token lowercase."
   ]
  },
  {
   "cell_type": "code",
   "execution_count": 1,
   "metadata": {
    "colab": {},
    "colab_type": "code",
    "id": "scklNnpgbel2"
   },
   "outputs": [
    {
     "ename": "NameError",
     "evalue": "name 'lib' is not defined",
     "output_type": "error",
     "traceback": [
      "\u001b[0;31m---------------------------------------------------------------\u001b[0m",
      "\u001b[0;31mNameError\u001b[0m                     Traceback (most recent call last)",
      "\u001b[0;32m<ipython-input-1-bd774af223f1>\u001b[0m in \u001b[0;36m<module>\u001b[0;34m\u001b[0m\n\u001b[0;32m----> 1\u001b[0;31m \u001b[0mjoined_data\u001b[0m \u001b[0;34m=\u001b[0m \u001b[0mlib\u001b[0m\u001b[0;34m.\u001b[0m\u001b[0mload_joined_data\u001b[0m\u001b[0;34m(\u001b[0m\u001b[0;34m)\u001b[0m\u001b[0;34m\u001b[0m\u001b[0;34m\u001b[0m\u001b[0m\n\u001b[0m\u001b[1;32m      2\u001b[0m \u001b[0;34m\u001b[0m\u001b[0m\n\u001b[1;32m      3\u001b[0m \u001b[0;31m# create your list of tokens!\u001b[0m\u001b[0;34m\u001b[0m\u001b[0;34m\u001b[0m\u001b[0;34m\u001b[0m\u001b[0m\n\u001b[1;32m      4\u001b[0m \u001b[0;32mdef\u001b[0m \u001b[0mget_all_tokens\u001b[0m\u001b[0;34m(\u001b[0m\u001b[0mjoined_data\u001b[0m\u001b[0;34m)\u001b[0m\u001b[0;34m:\u001b[0m\u001b[0;34m\u001b[0m\u001b[0;34m\u001b[0m\u001b[0m\n\u001b[1;32m      5\u001b[0m     \u001b[0mtokens\u001b[0m \u001b[0;34m=\u001b[0m \u001b[0;34m[\u001b[0m\u001b[0;34m]\u001b[0m\u001b[0;34m\u001b[0m\u001b[0;34m\u001b[0m\u001b[0m\n",
      "\u001b[0;31mNameError\u001b[0m: name 'lib' is not defined"
     ]
    }
   ],
   "source": [
    "joined_data = lib.load_joined_data()\n",
    "\n",
    "# create your list of tokens!\n",
    "all_tokens = []\n",
    "### YOUR WORK HERE!!!\n"
   ]
  },
  {
   "cell_type": "code",
   "execution_count": 0,
   "metadata": {
    "colab": {},
    "colab_type": "code",
    "id": "C4OFl48Cbel4"
   },
   "outputs": [],
   "source": [
    "seasons = ['spring', 'summer', 'fall', 'winter']"
   ]
  },
  {
   "cell_type": "markdown",
   "metadata": {
    "colab_type": "text",
    "id": "4amd5dC_Eqxj"
   },
   "source": [
    "Now, write a function count_seasons, that takes in your tokens as input and prints out the count for each season. You can use the seasons list provided above!"
   ]
  },
  {
   "cell_type": "code",
   "execution_count": 0,
   "metadata": {
    "colab": {},
    "colab_type": "code",
    "id": "LVckg3Iqbel6"
   },
   "outputs": [],
   "source": [
    "def count_seasons(all_tokens):\n",
    "    counts = {}\n",
    "    ### YOUR WORK HERE!!!\n",
    "\n",
    "    print(counts)"
   ]
  },
  {
   "cell_type": "code",
   "execution_count": null,
   "metadata": {},
   "outputs": [],
   "source": [
    "# call your function on the tokens\n",
    "### YOUR WORK HERE!!!"
   ]
  },
  {
   "cell_type": "markdown",
   "metadata": {
    "colab_type": "text",
    "id": "msxDB64fbel8"
   },
   "source": [
    "### The magic of preprocesssing\n",
    "nltk's word tokenize algorithm is trained to handle special cases like punctuation. However, we saw that a simple \"tokenizer\" is python's `string.split` function, which splits a string on white space.\n",
    "\n",
    "Write a new function, `get_all_tokens_split`, where you create your list of tokens using `string.split` instead of `nltk.word_tokenize`. Make sure to make all of your tokens **lower case** again! Do you get different results?"
   ]
  },
  {
   "cell_type": "code",
   "execution_count": 0,
   "metadata": {
    "colab": {},
    "colab_type": "code",
    "id": "rpNyUJM_bel9"
   },
   "outputs": [],
   "source": [
    "def get_all_tokens_split(joined_data):\n",
    "    tokens = []\n",
    "    ### YOUR WORK HERE!!!\n",
    "    return tokens\n",
    "\n",
    "# call your function on the data\n",
    "\n",
    "\n",
    "# count seasons - are your results the same? different?\n",
    "\n"
   ]
  },
  {
   "cell_type": "markdown",
   "metadata": {
    "colab_type": "text",
    "id": "98QT5L0bbel-"
   },
   "source": [
    "How about if you don't use `lower` to ignore case? Write one more function, `get_all_tokens_split_case_sensitive`, which does the same thing as `get_all_tokens_split` but doesn't ignore case. Check the results of `count_seasons` again. This time, we'll use upper case for our seasons."
   ]
  },
  {
   "cell_type": "code",
   "execution_count": 0,
   "metadata": {
    "colab": {},
    "colab_type": "code",
    "id": "PNGtaDYIbel_"
   },
   "outputs": [],
   "source": [
    "seasons = ['Spring', 'Summer', 'Fall', 'Winter']\n",
    "\n",
    "def get_all_tokens_split_case_sensitive(joined_data):\n",
    "    tokens = []\n",
    "    ### YOUR WORK HERE!!!\n",
    "    return tokens\n",
    "\n",
    "# call your new function on the data\n",
    "\n",
    "\n",
    "# count seasons - are your results the same? different?\n",
    "\n"
   ]
  },
  {
   "cell_type": "markdown",
   "metadata": {
    "colab_type": "text",
    "id": "z5H5W6IgbemB"
   },
   "source": [
    "Which results seem most \"correct\" to you? Which pre-processing method is the most robust?"
   ]
  },
  {
   "cell_type": "markdown",
   "metadata": {
    "colab_type": "text",
    "id": "go-_NrDjFCjM"
   },
   "source": []
  },
  {
   "cell_type": "markdown",
   "metadata": {
    "colab_type": "text",
    "id": "1rgvROjQbemC"
   },
   "source": [
    "## What kinds of things are people happy about?\n",
    "To go beyond the simple example with seasons, we will explore what kinds of things people are happy about. In particular, we will explore two areas:\n",
    "1. What purchases are people happy with (i.e. can money buy happiness)?\n",
    "1. Who are people happy to do things with?\n",
    "\n",
    "In the end, we will see if mention people or purchases more in their happy moments."
   ]
  },
  {
   "cell_type": "markdown",
   "metadata": {
    "colab_type": "text",
    "id": "Tq_0WJrxbemC"
   },
   "source": [
    "### Parsing sentences\n",
    "\n",
    "To find out what people have bought, you'll be using spaCy's sentence parser. If you aren't familiar, here is an example parse tree, generated using [this site](http://nlpviz.bpodgursky.com/):\n",
    "\n",
    "<img src=\"img/parse2.png\" width=\"500\">\n",
    "\n",
    "This is the parse tree for the sentence \"I went to the store to buy some blue jeans.\" Different parse trees will have slightly different structures - sometimes more specific tags, like NNS (plural noun) are used, while sometimes only more general tags like N (noun) will be used.\n",
    "\n",
    "To begin, we'll play around with the spacy parser to find the NP that is associated with the word \"buy\" in our example sentence. Make sure that you actually use the parse tree structure, as it will become important later on."
   ]
  },
  {
   "cell_type": "markdown",
   "metadata": {
    "colab_type": "text",
    "id": "QFW_4F3cbemD"
   },
   "source": [
    "You'll want to loop through the noun chunks to find the one whose \"head\" is \"buy.\" [The noun chunks documentation](https://spacy.io/usage/linguistic-features#noun-chunks) should give you a good idea of how to do this. Return all noun chunks for which the head is in the passed in list `buy_list`.\n",
    "\n",
    "It should be clear from the example how to get the text attribute from a noun chunk - do note that noun chunks are _spans_ and individual words are _tokens_ in spaCy. This means that you should always make sure to get the text if that's waht you want!\n",
    "\n",
    "Here's the documentation for span and token objects:\n",
    "* [Spans](https://spacy.io/api/span)\n",
    "* [Tokens](https://spacy.io/api/token)"
   ]
  },
  {
   "cell_type": "code",
   "execution_count": null,
   "metadata": {},
   "outputs": [],
   "source": [
    "# use this cell to play around with a spacy parse, based on the documentation.\n",
    "# this may help you to understand what is happening\n",
    "# also feel free to ask questions - this is definitely the hardest thing we have done so far.\n",
    "\n"
   ]
  },
  {
   "cell_type": "code",
   "execution_count": 0,
   "metadata": {
    "colab": {},
    "colab_type": "code",
    "id": "W_CqDEidbemD"
   },
   "outputs": [],
   "source": [
    "sentence = 'I went to the store to buy some blue jeans'\n",
    "simple_buy_list = ['buy']\n",
    "\n",
    "def get_things_bought(document, buy_list):\n",
    "    things_bought = []\n",
    "    \n",
    "    # load spacy, and parse your document with spacy\n",
    "    ### YOUR WORK HERE\n",
    "\n",
    "    ### END YOUR WORK\n",
    "    \n",
    "    # now, find all of the relevant noun chunks\n",
    "    # make sure you return their text!\n",
    "    # refer to the documentation on noun chunks for this\n",
    "    ### YOUR WORK HERE\n",
    "            \n",
    "    ### END YOUR WORK\n",
    "    return things_bought\n",
    "\n",
    "# This should print ['some blue jeans']\n",
    "print(get_things_bought(sentence, simple_buy_list))"
   ]
  },
  {
   "cell_type": "markdown",
   "metadata": {
    "colab_type": "text",
    "id": "7yEn1pgybemG"
   },
   "source": [
    "### Counting Purchases"
   ]
  },
  {
   "cell_type": "markdown",
   "metadata": {
    "colab_type": "text",
    "id": "YBd4QIsxbemH"
   },
   "source": [
    "Now that you've written the get_things_bought function, let's put everything together on our actual dataset. Create a dictionary to count every purchase that has been mentioned, and then print the results **in descending order.** Be sure to print the count and the noun chunk.\n",
    "\n",
    "You will also want to extend your buy list. You will want to think of synonyms, in addition to different forms of the verb \"to buy\".\n",
    "\n",
    "Hint: try calling your function with the full document instead of individual sentences. Individual sentences are not needed by spaCy, and this will make your code run much faster."
   ]
  },
  {
   "cell_type": "code",
   "execution_count": 0,
   "metadata": {
    "colab": {},
    "colab_type": "code",
    "id": "Bcefw0iCbemH"
   },
   "outputs": [],
   "source": [
    "# load happy moments\n",
    "# because parsing is slow, you should define a few variables here\n",
    "# 1. full_hms: this is a list of all happy moment texts in the dataset\n",
    "# 2. eigth_hms: this is 1/8 of the happy moments in the dataset. we will use this when our code is resource-intensive\n",
    "# 4. hms_text: this is eigth_hms, but we will join it together in a string! combine all strings with the \\n (newline)\n",
    "#    character. Use the string join function: https://www.programiz.com/python-programming/methods/string/join\n",
    "### YOUR WORK HERE\n",
    "hms = lib.load_happy_moments()\n",
    "full_hms = ???\n",
    "eigth_hms = ???\n",
    "hms_text = ???\n",
    "### END YOUR WORK"
   ]
  },
  {
   "cell_type": "code",
   "execution_count": 0,
   "metadata": {
    "colab": {},
    "colab_type": "code",
    "id": "k5kFQu8KbemK"
   },
   "outputs": [],
   "source": [
    "# define your buy list\n",
    "### YOUR WORK HERE\n",
    "buy_list = ???\n",
    "### END YOUR WORK"
   ]
  },
  {
   "cell_type": "code",
   "execution_count": 0,
   "metadata": {
    "colab": {},
    "colab_type": "code",
    "id": "d9DFPuu6bemM"
   },
   "outputs": [],
   "source": [
    "# find purchases\n",
    "# this might take a few minutes to run, don't worry if it does!\n",
    "# hint: you will want to sort the list to print in descending order. \n",
    "# Ask for help if you don't know how to do this, or look it up online!\n",
    "### YOUR WORK HERE\n",
    "\n",
    "# count things\n",
    "\n",
    "\n",
    "\n",
    "# sort\n",
    "\n",
    "\n",
    "# print\n",
    "\n",
    "\n",
    "### END YOUR WORK"
   ]
  },
  {
   "cell_type": "markdown",
   "metadata": {
    "colab_type": "text",
    "id": "PBwOhAFobemO"
   },
   "source": [
    "You might notice that some of the most common words here are not in fact things that people have bought. An obvious example is the common word \"I\"\n",
    "\n",
    "One sentence where \"I\" is pulled out of the parse tree is the following:\n",
    "```\n",
    "I bought a new TV\n",
    "```\n",
    "\n",
    "In this specific case, I think that the spaCy parser is doing something wrong my marking \"I\" as a child of \"bought\", however, we can still filter it out. A more legitimate failure is from the sentence \"I bought my father a bicycle\", in which \"father\" really does belong under \"bought\" in the tree, but is not the thing that was bought.\n",
    "\n",
    "Modify your code to take a list of blacklist words that you define. Make sure you think about case as you work on this. Once you've added the blacklist, be creative! Add anything else that you think will help with your performance.\n",
    "\n",
    "You can copy your code down here to work on this."
   ]
  },
  {
   "cell_type": "code",
   "execution_count": 0,
   "metadata": {
    "colab": {},
    "colab_type": "code",
    "id": "jbtGnk0rbemP"
   },
   "outputs": [],
   "source": [
    "# define blacklist\n",
    "### YOUR WORK HERE\n",
    "\n",
    "\n",
    "### END YOUR WORK\n",
    "\n",
    "def get_things_bought_blacklist(document, buy_list, blacklist):\n",
    "    things_bought = []\n",
    "    \n",
    "    # load spacy, and parse your document with spacy\n",
    "    ### YOUR WORK HERE\n",
    "\n",
    "    \n",
    "    ### END YOUR WORK\n",
    "    \n",
    "    # now, find all of the relevant noun chunks\n",
    "    # make sure you return their text!\n",
    "    ### YOUR WORK HERE\n",
    "\n",
    "    \n",
    "    \n",
    "    ### END YOUR WORK\n",
    "    return things_bought\n",
    "\n",
    "### YOUR WORK HERE\n",
    "# this should be similar to your previous code\n",
    "\n",
    "\n",
    "### END YOUR WORK"
   ]
  },
  {
   "cell_type": "markdown",
   "metadata": {
    "colab_type": "text",
    "id": "4BSjFut_bemQ"
   },
   "source": [
    "What purchases seem to make people the most happy?"
   ]
  },
  {
   "cell_type": "markdown",
   "metadata": {
    "colab_type": "text",
    "id": "L1JwjFgXbemR"
   },
   "source": []
  },
  {
   "cell_type": "markdown",
   "metadata": {
    "colab_type": "text",
    "id": "dwJxk5PqbemS"
   },
   "source": [
    "Finally, count up and print the total number of purchases mentioned in this chunk of the dataset."
   ]
  },
  {
   "cell_type": "code",
   "execution_count": 0,
   "metadata": {
    "colab": {},
    "colab_type": "code",
    "id": "w50yi_EXbemS"
   },
   "outputs": [],
   "source": [
    "### YOUR WORK HERE\n",
    "total_purchases = ???\n",
    "\n",
    "\n",
    "### END YOUR WORK\n",
    "print(total_purchases)"
   ]
  },
  {
   "cell_type": "markdown",
   "metadata": {
    "colab_type": "text",
    "id": "V-OVRhrObemU"
   },
   "source": [
    "### Counting Personal Interactions\n",
    "In addition to purchases, we want to count other people who are mentioned in the dataset. This will be a fairly simple pattern-matching exercise, like what we did for seasons. However, we will do a little bit of (our own) parsing to get some ideas!\n",
    "\n",
    "Much of the time, people are mentioned using a possessive like *my*. Go through all of the sentences, searching for the word *my*. Count up occurrences of words that appear after *my*. This might give you some ideas about what to look for! Print the list out in order."
   ]
  },
  {
   "cell_type": "code",
   "execution_count": 0,
   "metadata": {
    "colab": {},
    "colab_type": "code",
    "id": "Ye4TE3OMbemU"
   },
   "outputs": [],
   "source": [
    "nlp = spacy.load('en')\n",
    "\n",
    "### YOUR WORK HERE\n",
    "# count words that occur after my\n",
    "\n",
    "\n",
    "\n",
    "### END YOUR WORK"
   ]
  },
  {
   "cell_type": "code",
   "execution_count": 0,
   "metadata": {
    "colab": {},
    "colab_type": "code",
    "id": "c58KjnPabemW"
   },
   "outputs": [],
   "source": [
    "### YOUR WORK HERE\n",
    "# print words that commonly occur after my, in order\n",
    "\n",
    "\n",
    "\n",
    "### END YOUR WORK"
   ]
  },
  {
   "cell_type": "markdown",
   "metadata": {
    "colab_type": "text",
    "id": "f3TCmz3ubemY"
   },
   "source": [
    "Now that you have some ideas, build your list of personal relationships (call it `relationships`), and write a function `count relationships`.\n",
    "\n",
    "Make sure that you do not double count a happy moment with multiple relationships mentioned."
   ]
  },
  {
   "cell_type": "code",
   "execution_count": 0,
   "metadata": {
    "colab": {},
    "colab_type": "code",
    "id": "1rpmMCsbbemY"
   },
   "outputs": [],
   "source": [
    "relationships = ???"
   ]
  },
  {
   "cell_type": "code",
   "execution_count": 0,
   "metadata": {
    "colab": {},
    "colab_type": "code",
    "id": "5yQMBy6Gbemb"
   },
   "outputs": [],
   "source": [
    "def count_relationships(hms, relationships):\n",
    "    count = 0\n",
    "    ### YOUR WORK HERE\n",
    "\n",
    "    \n",
    "    ### END YOUR WORK\n",
    "    return count"
   ]
  },
  {
   "cell_type": "code",
   "execution_count": 0,
   "metadata": {
    "colab": {},
    "colab_type": "code",
    "id": "LtjtN0robeme"
   },
   "outputs": [],
   "source": [
    "count_relationships(hms, relationships)"
   ]
  },
  {
   "cell_type": "markdown",
   "metadata": {
    "colab_type": "text",
    "id": "45a4_xI7bemk"
   },
   "source": [
    "Do people mention relationships that they are happy with more, or people? What does this tell us about the general cause of happiness?"
   ]
  },
  {
   "cell_type": "code",
   "execution_count": 0,
   "metadata": {
    "colab": {},
    "colab_type": "code",
    "id": "1MpBVq21beml"
   },
   "outputs": [],
   "source": []
  }
 ],
 "metadata": {
  "colab": {
   "collapsed_sections": [],
   "name": "3_Exploring_Text.ipynb",
   "provenance": [],
   "version": "0.3.2"
  },
  "kernelspec": {
   "display_name": "Python 3",
   "language": "python",
   "name": "python3"
  },
  "language_info": {
   "codemirror_mode": {
    "name": "ipython",
    "version": 3
   },
   "file_extension": ".py",
   "mimetype": "text/x-python",
   "name": "python",
   "nbconvert_exporter": "python",
   "pygments_lexer": "ipython3",
   "version": "3.7.1"
  }
 },
 "nbformat": 4,
 "nbformat_minor": 1
}
