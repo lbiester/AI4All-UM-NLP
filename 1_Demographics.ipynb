{
 "cells": [
  {
   "cell_type": "code",
   "execution_count": 0,
   "metadata": {
    "colab": {},
    "colab_type": "code",
    "id": "wNkyzL6yaQni"
   },
   "outputs": [],
   "source": [
    "import sys\n",
    "IN_COLAB = 'google.colab' in sys.modules\n",
    "\n",
    "if IN_COLAB:\n",
    "    from google.colab import drive\n",
    "    drive.mount('/content/drive')\n",
    "    %cd '/content/drive/My Drive/AI4All-UM-NLP'"
   ]
  },
  {
   "cell_type": "code",
   "execution_count": 0,
   "metadata": {
    "colab": {},
    "colab_type": "code",
    "id": "0M7O974naKb1"
   },
   "outputs": [],
   "source": [
    "%load_ext autoreload\n",
    "%autoreload 2\n",
    "import lib\n",
    "from collections import Counter\n",
    "import numpy as np"
   ]
  },
  {
   "cell_type": "markdown",
   "metadata": {
    "colab_type": "text",
    "id": "SN5ogkaiuOrQ"
   },
   "source": [
    "## Using Lib\n",
    "In addition to outside libraries, we have provided a library called `lib` with a few functions we have defined. It will be useful to load data, and for some visualizations. If you want to understand the code, you can find it in the google drive directory, under `lib.py`, but you don't need to!"
   ]
  },
  {
   "cell_type": "markdown",
   "metadata": {
    "colab_type": "text",
    "id": "eU1kLJMmaKb4"
   },
   "source": [
    "# Loading the Data and Checking Demographics\n",
    "We have two data files: demographic.csv and cleaned_hm.csv.\n",
    "\n",
    "* demographic.csv contains demogrpahic information about the individuals who are represented in the dataset  \n",
    "  The dataset can be loaded as a list of dictionaries by calling `lib.load_demographics()`. The keys are the columns of the table: `wid`, `age`,\t`country`,\t`gender`,\t`marital`, and\t`parenthood`\n",
    "\n",
    "* cleaned_hm.csv contains 100,000 crowd-sourced happy moments. Worker IDs listed correspond to `wid` in demographic.csv.  \n",
    "  The dataset can be loaded as a list of dictionaries by calling `lib.load_happy_moments()`.The keys are the columns of the table: \t`hmid`,\t`wid`,\t`reflection_period`,\t`original_hm`,\t`cleaned_hm`,\t`modified`,\t`num_sentence`,\t`ground_truth_category`,\t`predicted_category`\n",
    "  \n",
    "You may find `lib.load_joined_data()` to be particularly useful, as it will load all of the data you will need without you needing to combine the two tables together! The format is a list of dictionaries. The keys are the \"core\" keys from the other tables that you will use later on: `cleaned_hm`, `age`, `country`, `wid`, `gender`, `parenthood`, `marital`, and `hmid`.\n",
    "  \n",
    "We will load the data files here using the pandas library so that you can see what each file looks like; however, you aren't expected to learn how to work with pandas, so we provide functions to load the data as a dictionary"
   ]
  },
  {
   "cell_type": "code",
   "execution_count": 0,
   "metadata": {
    "colab": {},
    "colab_type": "code",
    "id": "yqgRbdBBaKb5"
   },
   "outputs": [],
   "source": [
    "lib.view_demographics()"
   ]
  },
  {
   "cell_type": "code",
   "execution_count": 0,
   "metadata": {
    "colab": {},
    "colab_type": "code",
    "id": "25kkTQtXaKb7"
   },
   "outputs": [],
   "source": [
    "lib.view_happy_moments()"
   ]
  },
  {
   "cell_type": "markdown",
   "metadata": {
    "colab_type": "text",
    "id": "cJ2lD1iqaKb9"
   },
   "source": [
    "Right now, we will only be working with the demographics file. Load it with the function that is mentioned above."
   ]
  },
  {
   "cell_type": "code",
   "execution_count": 0,
   "metadata": {
    "colab": {},
    "colab_type": "code",
    "id": "NgzwJU47aKb9"
   },
   "outputs": [],
   "source": [
    "demographics = ???"
   ]
  },
  {
   "cell_type": "markdown",
   "metadata": {
    "colab_type": "text",
    "id": "_xFArYjvaKb_"
   },
   "source": [
    "## Aggregating Demographic Information\n",
    "This data was crowdsourced, and demographic information was collected about worker's ages, countries, genders, marital status, and parenthood. To better understand the dataset, fill in the function called `get_distribution` to calculate the distribution of workers in each category for a certain property.\n",
    "\n",
    "Hint (highlight text to see):<font color='white'>count each value, then calculate a percentage afterwards</font>"
   ]
  },
  {
   "cell_type": "code",
   "execution_count": 0,
   "metadata": {
    "colab": {},
    "colab_type": "code",
    "id": "tyO3HDsSaKcA"
   },
   "outputs": [],
   "source": [
    "def get_distribution(demographics, worker_property):\n",
    "    ???\n",
    "    # return a dictionary that maps a property to a percent\n",
    "    return distribution"
   ]
  },
  {
   "cell_type": "markdown",
   "metadata": {
    "colab_type": "text",
    "id": "EKqzznI_aKcB"
   },
   "source": [
    "After writing your function, run the cell below to save each distribution. Add calls to save all of the distributions!"
   ]
  },
  {
   "cell_type": "code",
   "execution_count": 0,
   "metadata": {
    "colab": {},
    "colab_type": "code",
    "id": "7UYaqYv5aKcC"
   },
   "outputs": [],
   "source": [
    "age_distribution = get_distribution(demographics, 'age')\n",
    "# save country, gender, and marital distributions too!\n",
    "# YOUR CODE HERE!!\n"
   ]
  },
  {
   "cell_type": "markdown",
   "metadata": {
    "colab_type": "text",
    "id": "yNlCKfhWaKcE"
   },
   "source": [
    "Now, print out the distributions for marital status, country, and age. You can pass your dictionary to the function `lib.print_as_table` to print a table containing the distribution for better readability. The function takes two arguments: the dictionary and the title for the table. For example, to call it for age, you could write:\n",
    "\n",
    "`lib.print_as_table(age_distribution, 'Age Distribution')`"
   ]
  },
  {
   "cell_type": "code",
   "execution_count": 0,
   "metadata": {
    "colab": {},
    "colab_type": "code",
    "id": "OIlB22jtaKcF"
   },
   "outputs": [],
   "source": [
    "# print out distributions here!"
   ]
  },
  {
   "cell_type": "markdown",
   "metadata": {
    "colab_type": "text",
    "id": "zFElWZnCaKcH"
   },
   "source": [
    "If you wrote a fairly simple function to create your dictionary, you may notice some issues with these tables that make them less informative than we would like:\n",
    "1. There are a lot of ages! Furthermore, some are represented as floats and some are ints, but 25 and 25.0 should mean the same thing!\n",
    "1. There are also a lot of countries, but only two of them (USA and India) are very prevalent.\n",
    "1. There are some _weird_ unwanted values like nan (not a number, which means that this was not filled in in the table) and \"prefer not to say\" for age.\n",
    "\n",
    "To solve these problems, we will write three more functions:\n",
    "1. `get_age_distribution`  \n",
    "   This function will get the distribution of ages using a range instead of using single ages. You can use the buckets 10–20, 20–30, ..., 80-90. If you come across a value that does not fit in one of the ranges, skip it!\n",
    "2. `get_country_distribution`  \n",
    "   This function will get the distribution of countries, but will group together all countries with less than .4% of the overall workers into one group that you should call \"OTHER\". You should exclude nan values.\n",
    "3. `get_distribution_new`  \n",
    "   This function should be the same as your original `get_distribution` function, but should ignore nan values!"
   ]
  },
  {
   "cell_type": "code",
   "execution_count": 0,
   "metadata": {
    "colab": {},
    "colab_type": "code",
    "id": "DPtMxt8YaKcI"
   },
   "outputs": [],
   "source": [
    "def get_age_distribution(demographics):\n",
    "    # these are the buckets that you should use. Use any method you want to see if an age falls within a bucket.\n",
    "    buckets = ['10-20', '20-30', '30-40', '40-50', '50-60', '60-70', '70-80', '80-90']\n",
    "    # use a dictionary to count workers\n",
    "    # you will want to convert values to integers. There is at least one value that is not a number and is invalid\n",
    "    # try to see if you can ignore this value. if you don't know how, talk to a TA!\n",
    "    return distribution\n",
    "\n",
    "\n",
    "def get_country_distribution(demographics):\n",
    "    # create a distribution, but remove everything with less than 0.4%\n",
    "    modified_distribution = {}\n",
    "    return modified_distribution\n",
    "\n",
    "def get_distribution_new(demographics, worker_property):\n",
    "    # hint: to see if a value is nan, run type(val) == str or not np.isnan(val)\n",
    "    # make this return the distribution\n",
    "    return {}"
   ]
  },
  {
   "cell_type": "code",
   "execution_count": 0,
   "metadata": {
    "colab": {},
    "colab_type": "code",
    "id": "fM5tOT3LaKcL"
   },
   "outputs": [],
   "source": [
    "# call the new get_distribution functions to save your age, country, marital, gender, and parenthood distributions"
   ]
  },
  {
   "cell_type": "code",
   "execution_count": 0,
   "metadata": {
    "colab": {},
    "colab_type": "code",
    "id": "0ALr70U4aKcN"
   },
   "outputs": [],
   "source": [
    "# call `lib.print_as_table` on the new distributions, to see if your new functions helped"
   ]
  },
  {
   "cell_type": "markdown",
   "metadata": {
    "colab_type": "text",
    "id": "8GTgCGjoaKcO"
   },
   "source": [
    "## Distribution Visualizations\n",
    "\n",
    "Finally, using the library functions `lib.create_histogram` and `lib.create_pie`, create histograms and pie charts for our properties. Create a histogram for age; for the other properties, create pie charts. The functions take two parameters: the distributions and a title.  For example, to call it for age, you could write:\n",
    "\n",
    "`lib.create_pie(age_distribution, 'Age Distribution')`\n"
   ]
  },
  {
   "cell_type": "code",
   "execution_count": 0,
   "metadata": {
    "colab": {},
    "colab_type": "code",
    "id": "IREkG5tnaKcP"
   },
   "outputs": [],
   "source": [
    "# create pie charts for all properties"
   ]
  },
  {
   "cell_type": "code",
   "execution_count": 0,
   "metadata": {
    "colab": {},
    "colab_type": "code",
    "id": "7KVbkO23ard1"
   },
   "outputs": [],
   "source": []
  }
 ],
 "metadata": {
  "colab": {
   "collapsed_sections": [],
   "name": "1_Demographics.ipynb",
   "provenance": [],
   "version": "0.3.2"
  },
  "kernelspec": {
   "display_name": "Python 3",
   "language": "python",
   "name": "python3"
  },
  "language_info": {
   "codemirror_mode": {
    "name": "ipython",
    "version": 3
   },
   "file_extension": ".py",
   "mimetype": "text/x-python",
   "name": "python",
   "nbconvert_exporter": "python",
   "pygments_lexer": "ipython3",
   "version": "3.7.1"
  }
 },
 "nbformat": 4,
 "nbformat_minor": 1
}
