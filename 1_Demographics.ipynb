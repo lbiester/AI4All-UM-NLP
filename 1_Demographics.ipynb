{
 "cells": [
  {
   "cell_type": "code",
   "execution_count": null,
   "metadata": {},
   "outputs": [],
   "source": [
    "%load_ext autoreload\n",
    "%autoreload 2\n",
    "import lib\n",
    "from collections import Counter"
   ]
  },
  {
   "cell_type": "markdown",
   "metadata": {},
   "source": [
    "# Loading the Data and Checking Demographics\n",
    "We have two data files: demographic.csv and cleaned_hm.csv.\n",
    "\n",
    "* demographic.csv contains demogrpahic information about the individuals who are represented in the dataset  \n",
    "  The dataset can be loaded into a pandas dataframe by calling `lib.load_demographics()`. The key in the dictionary is the worker ID (wid).\n",
    "\n",
    "* cleaned_hm.csv contains 100,000 crowd-sourced happy moments. Worker IDs listed correspond to `wid` in demographic.csv.  \n",
    "  The dataset can be loaded into a pandas dataframe by calling `lib.load_happy_moments()`. The key in the dictionary is the happy moment ID (hmid).\n",
    "  \n",
    "We will load the data files here using the pandas library so that you can see what each file looks like; however, you aren't expected to learn how to work with pandas, so we provide functions to load the data as a dictionary"
   ]
  },
  {
   "cell_type": "code",
   "execution_count": null,
   "metadata": {},
   "outputs": [],
   "source": [
    "lib.view_demographics()"
   ]
  },
  {
   "cell_type": "code",
   "execution_count": null,
   "metadata": {},
   "outputs": [],
   "source": [
    "lib.view_happy_moments()"
   ]
  },
  {
   "cell_type": "markdown",
   "metadata": {},
   "source": [
    "So that you can process them, load the two data files using the functions mentioned above"
   ]
  },
  {
   "cell_type": "code",
   "execution_count": null,
   "metadata": {},
   "outputs": [],
   "source": [
    "demographics = lib.load_demographics()\n",
    "happy_moments = lib.load_happy_moments()"
   ]
  },
  {
   "cell_type": "markdown",
   "metadata": {},
   "source": [
    "## Aggregating Demographic Information\n",
    "This data was crowdsourced, and demographic information was collected about worker's ages, countries, genders, marital status, and parenthood. To better understand the dataset, fill in the function called `get_distribution` to calculate the distribution of workers in each category for a certain property."
   ]
  },
  {
   "cell_type": "code",
   "execution_count": null,
   "metadata": {},
   "outputs": [],
   "source": [
    "def get_distribution(demographics, worker_property):\n",
    "    counts = Counter(demographics[worker_property])\n",
    "    total = sum(counts.values())\n",
    "    distribution = {category: (100 * count / total) for category, count in counts.items()}\n",
    "    # return a dictionary that maps a property to a percent\n",
    "    return distribution"
   ]
  },
  {
   "cell_type": "markdown",
   "metadata": {},
   "source": [
    "After writing your function, run the cell below to save each distribution"
   ]
  },
  {
   "cell_type": "code",
   "execution_count": null,
   "metadata": {},
   "outputs": [],
   "source": [
    "age_distribution = get_distribution(demographics, 'age')\n",
    "country_distribution = get_distribution(demographics, 'country')\n",
    "gender_distribution = get_distribution(demographics, 'gender')\n",
    "marital_distribution = get_distribution(demographics, 'marital')\n",
    "parenthood_distribution = get_distribution(demographics, 'parenthood')"
   ]
  },
  {
   "cell_type": "markdown",
   "metadata": {},
   "source": [
    "Now, print out the distributions for marital status, country, and age. You can pass your dictionary to the function `lib.print_as_table` to print a table containing the distribution for better readability. The function takes two arguments: the dictionary and the title for the table."
   ]
  },
  {
   "cell_type": "code",
   "execution_count": null,
   "metadata": {},
   "outputs": [],
   "source": [
    "lib.print_as_table(age_distribution, 'Age Distribution')\n",
    "lib.print_as_table(country_distribution, 'Country Distribution')\n",
    "lib.print_as_table(marital_distribution, 'Marital Distribution')"
   ]
  },
  {
   "cell_type": "markdown",
   "metadata": {},
   "source": [
    "If you wrote a fairly simple function to create your dictionary, you may notice some issues with these tables that make them less informative than we would like:\n",
    "1. There are a lot of ages! Furthermore, some are represented as floats and some are ints, but 25 and 25.0 should mean the same thing!\n",
    "1. There are also a lot of countries, but only two of them (USA and India) are very prevalent.\n",
    "1. There are some _weird_ unwanted values like nan (not a number, which means that this was not filled in in the table) and \"prefer not to say\" for age.\n",
    "\n",
    "To solve these problems, we will write three more functions:\n",
    "1. `get_age_distribution`  \n",
    "   This function will get the distribution of ages using a range instead of using single ages. You can use the buckets 10–20, 20–30, ..., 80-90. If you come across a value that does not fit in one of the ranges, skip it!\n",
    "2. `get_country_distribution`  \n",
    "   This function will get the distribution of countries, but will group together all countries with less than .4% of the overall workers into one group that you should call \"OTHER\". You should exclude nan values.\n",
    "3. `get_distribution_new`  \n",
    "   This function should be the same as your original `get_distribution` function, but should ignore nan values!"
   ]
  },
  {
   "cell_type": "code",
   "execution_count": null,
   "metadata": {},
   "outputs": [],
   "source": [
    "def get_age_distribution(demographics):\n",
    "    buckets = ['10-20', '20-30', '30-40', '40-50', '50-60', '60-70', '70-80', '80-90']\n",
    "    counts = Counter()\n",
    "    for age in demographics['age']:\n",
    "        try:\n",
    "            age = int(float(age))\n",
    "        except:\n",
    "            # in this case the input is bad\n",
    "            continue\n",
    "        bucket_id = int((age - (age % 10)) / 10 - 1)\n",
    "        if bucket_id < len(buckets):\n",
    "            bucket = buckets[bucket_id]\n",
    "            counts[buckets[bucket_id]] += 1\n",
    "    total = sum(counts.values())\n",
    "    distribution = {category: (100 * count / total) for category, count in counts.items()}\n",
    "    return distribution\n",
    "\n",
    "\n",
    "def get_country_distribution(demographics):\n",
    "    distribution = get_distribution(demographics, 'country')\n",
    "    modified_distribution = {}\n",
    "    other = 0\n",
    "    for k, v in distribution.items():\n",
    "        if v < 0.4:\n",
    "            other += v\n",
    "        else:\n",
    "            modified_distribution[k] = v\n",
    "    modified_distribution['OTHER'] = other\n",
    "    return modified_distribution\n",
    "\n",
    "def get_distribution_new(demographics, worker_property):\n",
    "    demographics = demographics[demographics[worker_property].notnull()]\n",
    "    # if this is called with one of the properties that we have a special function for, call that function instead!\n",
    "    if worker_property == 'age':\n",
    "        return get_age_distribution(demographics)\n",
    "    elif worker_property == 'country':\n",
    "        return get_country_distribution(demographics)\n",
    "    return get_distribution(demographics, worker_property)"
   ]
  },
  {
   "cell_type": "code",
   "execution_count": null,
   "metadata": {},
   "outputs": [],
   "source": [
    "age_distribution = get_distribution_new(demographics, 'age')\n",
    "country_distribution = get_distribution_new(demographics, 'country')\n",
    "gender_distribution = get_distribution_new(demographics, 'gender')\n",
    "marital_distribution = get_distribution_new(demographics, 'marital')\n",
    "parenthood_distribution = get_distribution_new(demographics, 'parenthood')"
   ]
  },
  {
   "cell_type": "code",
   "execution_count": null,
   "metadata": {},
   "outputs": [],
   "source": [
    "lib.print_as_table(age_distribution, 'Age Distribution')\n",
    "lib.print_as_table(country_distribution, 'Country Distribution')\n",
    "lib.print_as_table(marital_distribution, 'Marital Distribution')\n",
    "lib.print_as_table(gender_distribution, 'Gender Distribution')\n",
    "lib.print_as_table(parenthood_distribution, 'Parenthood Distribution')"
   ]
  },
  {
   "cell_type": "markdown",
   "metadata": {},
   "source": [
    "<span style=\"color:red\">TODO:</span> add histograms!"
   ]
  },
  {
   "cell_type": "code",
   "execution_count": null,
   "metadata": {},
   "outputs": [],
   "source": [
    "int(float(demographics['age'][0]))"
   ]
  },
  {
   "cell_type": "code",
   "execution_count": null,
   "metadata": {},
   "outputs": [],
   "source": [
    "int(float('445'))"
   ]
  },
  {
   "cell_type": "code",
   "execution_count": null,
   "metadata": {},
   "outputs": [],
   "source": []
  }
 ],
 "metadata": {
  "kernelspec": {
   "display_name": "Python 3",
   "language": "python",
   "name": "python3"
  },
  "language_info": {
   "codemirror_mode": {
    "name": "ipython",
    "version": 3
   },
   "file_extension": ".py",
   "mimetype": "text/x-python",
   "name": "python",
   "nbconvert_exporter": "python",
   "pygments_lexer": "ipython3",
   "version": "3.7.1"
  }
 },
 "nbformat": 4,
 "nbformat_minor": 2
}
